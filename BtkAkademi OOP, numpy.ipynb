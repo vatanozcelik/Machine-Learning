{
 "cells": [
  {
   "cell_type": "markdown",
   "metadata": {},
   "source": [
    "## instance & attribute"
   ]
  },
  {
   "cell_type": "code",
   "execution_count": 1,
   "metadata": {},
   "outputs": [],
   "source": [
    "name = \"superman\"\n",
    "age =  30\n",
    "job = \"newpaper\"\n",
    "class Superhero():\n",
    "    \n",
    "    def __init__(self,name,age,job):\n",
    "        self.name = name\n",
    "        print(\"init called \")\n",
    "        "
   ]
  },
  {
   "cell_type": "code",
   "execution_count": 2,
   "metadata": {},
   "outputs": [
    {
     "ename": "TypeError",
     "evalue": "__init__() missing 3 required positional arguments: 'name', 'age', and 'job'",
     "output_type": "error",
     "traceback": [
      "\u001b[1;31m---------------------------------------------------------------------------\u001b[0m",
      "\u001b[1;31mTypeError\u001b[0m                                 Traceback (most recent call last)",
      "\u001b[1;32m<ipython-input-2-657246cb5809>\u001b[0m in \u001b[0;36m<module>\u001b[1;34m\u001b[0m\n\u001b[1;32m----> 1\u001b[1;33m \u001b[0msuperman\u001b[0m \u001b[1;33m=\u001b[0m \u001b[0mSuperhero\u001b[0m\u001b[1;33m(\u001b[0m\u001b[1;33m)\u001b[0m\u001b[1;33m\u001b[0m\u001b[1;33m\u001b[0m\u001b[0m\n\u001b[0m",
      "\u001b[1;31mTypeError\u001b[0m: __init__() missing 3 required positional arguments: 'name', 'age', and 'job'"
     ]
    }
   ],
   "source": [
    "superman = Superhero()"
   ]
  },
  {
   "cell_type": "markdown",
   "metadata": {},
   "source": [
    "## INHERITANCE"
   ]
  },
  {
   "cell_type": "code",
   "execution_count": 3,
   "metadata": {},
   "outputs": [
    {
     "name": "stdout",
     "output_type": "stream",
     "text": [
      "animal class method called\n"
     ]
    }
   ],
   "source": [
    "class animal():\n",
    "    def __init__(self):\n",
    "        print(\"animal class method called\")\n",
    "    def method1(self):\n",
    "        print(\"method1\")\n",
    "    def method2(self):\n",
    "        print(\"method2\")\n",
    "myAnimal = animal()\n"
   ]
  },
  {
   "cell_type": "code",
   "execution_count": 4,
   "metadata": {},
   "outputs": [
    {
     "name": "stdout",
     "output_type": "stream",
     "text": [
      "method1\n"
     ]
    }
   ],
   "source": [
    "myAnimal.method1()"
   ]
  },
  {
   "cell_type": "code",
   "execution_count": 5,
   "metadata": {},
   "outputs": [],
   "source": [
    "class cat(animal):\n",
    "    def __init__(self):\n",
    "        animal.__init__(self)\n",
    "        print(\"cat class init called\")\n",
    "    \n",
    "    def miyav(self):\n",
    "        print(\"miyav\")"
   ]
  },
  {
   "cell_type": "code",
   "execution_count": 6,
   "metadata": {},
   "outputs": [
    {
     "name": "stdout",
     "output_type": "stream",
     "text": [
      "animal class method called\n",
      "cat class init called\n"
     ]
    }
   ],
   "source": [
    "myCat = cat()"
   ]
  },
  {
   "cell_type": "markdown",
   "metadata": {},
   "source": [
    "## polymorphism"
   ]
  },
  {
   "cell_type": "code",
   "execution_count": 7,
   "metadata": {},
   "outputs": [],
   "source": [
    "class apple():\n",
    "    def __init__(self, name):\n",
    "        self.name = name\n",
    "    def giveinfo(self):\n",
    "        return self.name , \"100 caloridir \"\n",
    "    "
   ]
  },
  {
   "cell_type": "code",
   "execution_count": 8,
   "metadata": {},
   "outputs": [],
   "source": [
    "class banana():\n",
    "    def __init__(self, name):\n",
    "        self.name = name\n",
    "    def giveinfo(self):\n",
    "        return self.name , \"150 caloridir \"\n",
    " "
   ]
  },
  {
   "cell_type": "code",
   "execution_count": 9,
   "metadata": {},
   "outputs": [
    {
     "data": {
      "text/plain": [
       "<function __main__.banana.giveinfo(self)>"
      ]
     },
     "execution_count": 9,
     "metadata": {},
     "output_type": "execute_result"
    }
   ],
   "source": [
    "banana.giveinfo"
   ]
  },
  {
   "cell_type": "code",
   "execution_count": 10,
   "metadata": {},
   "outputs": [],
   "source": [
    "class meyve():\n",
    "    def __init__(self,name,calori):\n",
    "        self.name = name\n",
    "        self.calori = calori\n",
    "    # ozel metodlar special methods\n",
    "    def __str__(self):\n",
    "        return f\"{self.name} su kaloriye sahiptir: {self.calori}\"\n",
    "    def __len__(self):\n",
    "        return self.calori"
   ]
  },
  {
   "cell_type": "code",
   "execution_count": 11,
   "metadata": {},
   "outputs": [],
   "source": [
    "muz = meyve(\"muz\",190)"
   ]
  },
  {
   "cell_type": "code",
   "execution_count": 12,
   "metadata": {},
   "outputs": [
    {
     "data": {
      "text/plain": [
       "190"
      ]
     },
     "execution_count": 12,
     "metadata": {},
     "output_type": "execute_result"
    }
   ],
   "source": [
    "muz.calori"
   ]
  },
  {
   "cell_type": "code",
   "execution_count": 13,
   "metadata": {},
   "outputs": [
    {
     "data": {
      "text/plain": [
       "190"
      ]
     },
     "execution_count": 13,
     "metadata": {},
     "output_type": "execute_result"
    }
   ],
   "source": [
    "len(muz)"
   ]
  },
  {
   "cell_type": "markdown",
   "metadata": {},
   "source": [
    "# error handling"
   ]
  },
  {
   "cell_type": "code",
   "execution_count": 14,
   "metadata": {},
   "outputs": [],
   "source": [
    "def toplama(num1,num3):\n",
    "    return num1 + num3\n"
   ]
  },
  {
   "cell_type": "markdown",
   "metadata": {},
   "source": [
    "# try & except & else & finally"
   ]
  },
  {
   "cell_type": "code",
   "execution_count": 15,
   "metadata": {},
   "outputs": [
    {
     "name": "stdout",
     "output_type": "stream",
     "text": [
      "numaranizi giriniz : 3434\n",
      "thanks\n",
      "finally called\n"
     ]
    }
   ],
   "source": [
    "while True:\n",
    "    try:\n",
    "        benimint = int(input(\"numaranizi giriniz : \"))\n",
    "    except:\n",
    "        print(\"luftfen saka yapma :\")\n",
    "        continue\n",
    "    else:\n",
    "        print(\"thanks\")\n",
    "        break\n",
    "    finally:\n",
    "        print(\"finally called\")"
   ]
  },
  {
   "cell_type": "markdown",
   "metadata": {},
   "source": [
    "# LIBRARY"
   ]
  },
  {
   "cell_type": "markdown",
   "metadata": {},
   "source": [
    "#### numpy"
   ]
  },
  {
   "cell_type": "code",
   "execution_count": 263,
   "metadata": {},
   "outputs": [],
   "source": [
    "import numpy as np\n",
    "import matplotlib.pyplot as matplot"
   ]
  },
  {
   "cell_type": "code",
   "execution_count": 264,
   "metadata": {},
   "outputs": [
    {
     "data": {
      "text/plain": [
       "55576.034959563534"
      ]
     },
     "execution_count": 264,
     "metadata": {},
     "output_type": "execute_result"
    }
   ],
   "source": [
    "salary = np.random.normal(55555,4333,99)\n",
    "np.mean(salary)"
   ]
  },
  {
   "cell_type": "code",
   "execution_count": 265,
   "metadata": {},
   "outputs": [
    {
     "data": {
      "image/png": "[encoded data removed]",
      "text/plain": [
       "<Figure size 432x288 with 1 Axes>"
      ]
     },
     "metadata": {
      "needs_background": "light"
     },
     "output_type": "display_data"
    }
   ],
   "source": [
    "matplot.hist(salary, 50)\n",
    "matplot.show()"
   ]
  },
  {
   "cell_type": "code",
   "execution_count": 266,
   "metadata": {},
   "outputs": [
    {
     "data": {
      "text/plain": [
       "list"
      ]
     },
     "execution_count": 266,
     "metadata": {},
     "output_type": "execute_result"
    }
   ],
   "source": [
    "benimListem = [20,43,56] \n",
    "type(benimListem)"
   ]
  },
  {
   "cell_type": "code",
   "execution_count": 267,
   "metadata": {},
   "outputs": [
    {
     "data": {
      "text/plain": [
       "array([20, 43, 56])"
      ]
     },
     "execution_count": 267,
     "metadata": {},
     "output_type": "execute_result"
    }
   ],
   "source": [
    "np.array(benimListem)"
   ]
  },
  {
   "cell_type": "code",
   "execution_count": 268,
   "metadata": {},
   "outputs": [],
   "source": [
    "matrix = [[23,5,7],[6,89,7],[34,6,8]]"
   ]
  },
  {
   "cell_type": "code",
   "execution_count": 269,
   "metadata": {},
   "outputs": [
    {
     "data": {
      "text/plain": [
       "6"
      ]
     },
     "execution_count": 269,
     "metadata": {},
     "output_type": "execute_result"
    }
   ],
   "source": [
    "matrix[1][0]"
   ]
  },
  {
   "cell_type": "code",
   "execution_count": 270,
   "metadata": {},
   "outputs": [
    {
     "data": {
      "text/plain": [
       "array([[23,  5,  7],\n",
       "       [ 6, 89,  7],\n",
       "       [34,  6,  8]])"
      ]
     },
     "execution_count": 270,
     "metadata": {},
     "output_type": "execute_result"
    }
   ],
   "source": [
    "np.array(matrix)"
   ]
  },
  {
   "cell_type": "markdown",
   "metadata": {},
   "source": [
    "### arange"
   ]
  },
  {
   "cell_type": "code",
   "execution_count": 271,
   "metadata": {},
   "outputs": [
    {
     "data": {
      "text/plain": [
       "[3, 4, 5]"
      ]
     },
     "execution_count": 271,
     "metadata": {},
     "output_type": "execute_result"
    }
   ],
   "source": [
    "list(range(3,6))"
   ]
  },
  {
   "cell_type": "code",
   "execution_count": 272,
   "metadata": {},
   "outputs": [
    {
     "data": {
      "text/plain": [
       "array([4, 5, 6])"
      ]
     },
     "execution_count": 272,
     "metadata": {},
     "output_type": "execute_result"
    }
   ],
   "source": [
    "np.arange(4,7)"
   ]
  },
  {
   "cell_type": "code",
   "execution_count": 273,
   "metadata": {},
   "outputs": [
    {
     "data": {
      "text/plain": [
       "array([ 4,  8, 12, 16, 20, 24, 28, 32, 36, 40, 44, 48, 52, 56, 60, 64])"
      ]
     },
     "execution_count": 273,
     "metadata": {},
     "output_type": "execute_result"
    }
   ],
   "source": [
    "np.arange(4,65,4)"
   ]
  },
  {
   "cell_type": "markdown",
   "metadata": {},
   "source": [
    "### zeros"
   ]
  },
  {
   "cell_type": "code",
   "execution_count": 274,
   "metadata": {},
   "outputs": [
    {
     "data": {
      "text/plain": [
       "array([0., 0., 0., 0.])"
      ]
     },
     "execution_count": 274,
     "metadata": {},
     "output_type": "execute_result"
    }
   ],
   "source": [
    "np.zeros(4)"
   ]
  },
  {
   "cell_type": "code",
   "execution_count": 275,
   "metadata": {},
   "outputs": [
    {
     "data": {
      "text/plain": [
       "array([[0., 0., 0., 0.],\n",
       "       [0., 0., 0., 0.]])"
      ]
     },
     "execution_count": 275,
     "metadata": {},
     "output_type": "execute_result"
    }
   ],
   "source": [
    "np.zeros((2,4))"
   ]
  },
  {
   "cell_type": "code",
   "execution_count": 276,
   "metadata": {},
   "outputs": [
    {
     "data": {
      "text/plain": [
       "array([1., 1., 1., 1.])"
      ]
     },
     "execution_count": 276,
     "metadata": {},
     "output_type": "execute_result"
    }
   ],
   "source": [
    "np.ones(4)"
   ]
  },
  {
   "cell_type": "code",
   "execution_count": 277,
   "metadata": {},
   "outputs": [
    {
     "data": {
      "text/plain": [
       "array([[1., 1., 1., 1., 1., 1.],\n",
       "       [1., 1., 1., 1., 1., 1.],\n",
       "       [1., 1., 1., 1., 1., 1.],\n",
       "       [1., 1., 1., 1., 1., 1.]])"
      ]
     },
     "execution_count": 277,
     "metadata": {},
     "output_type": "execute_result"
    }
   ],
   "source": [
    "np.ones((4,6))"
   ]
  },
  {
   "cell_type": "markdown",
   "metadata": {},
   "source": [
    "### linspace"
   ]
  },
  {
   "cell_type": "code",
   "execution_count": 278,
   "metadata": {},
   "outputs": [
    {
     "data": {
      "text/plain": [
       "array([ 3. , 13.6, 24.2, 34.8, 45.4, 56. ])"
      ]
     },
     "execution_count": 278,
     "metadata": {},
     "output_type": "execute_result"
    }
   ],
   "source": [
    "# from , to , how many\n",
    "np.linspace(3,56,6)"
   ]
  },
  {
   "cell_type": "code",
   "execution_count": 279,
   "metadata": {},
   "outputs": [
    {
     "data": {
      "text/plain": [
       "array([ 1.        ,  1.0918197 ,  1.1836394 ,  1.2754591 ,  1.3672788 ,\n",
       "        1.4590985 ,  1.5509182 ,  1.6427379 ,  1.7345576 ,  1.8263773 ,\n",
       "        1.91819699,  2.01001669,  2.10183639,  2.19365609,  2.28547579,\n",
       "        2.37729549,  2.46911519,  2.56093489,  2.65275459,  2.74457429,\n",
       "        2.83639399,  2.92821369,  3.02003339,  3.11185309,  3.20367279,\n",
       "        3.29549249,  3.38731219,  3.47913189,  3.57095159,  3.66277129,\n",
       "        3.75459098,  3.84641068,  3.93823038,  4.03005008,  4.12186978,\n",
       "        4.21368948,  4.30550918,  4.39732888,  4.48914858,  4.58096828,\n",
       "        4.67278798,  4.76460768,  4.85642738,  4.94824708,  5.04006678,\n",
       "        5.13188648,  5.22370618,  5.31552588,  5.40734558,  5.49916528,\n",
       "        5.59098497,  5.68280467,  5.77462437,  5.86644407,  5.95826377,\n",
       "        6.05008347,  6.14190317,  6.23372287,  6.32554257,  6.41736227,\n",
       "        6.50918197,  6.60100167,  6.69282137,  6.78464107,  6.87646077,\n",
       "        6.96828047,  7.06010017,  7.15191987,  7.24373957,  7.33555927,\n",
       "        7.42737896,  7.51919866,  7.61101836,  7.70283806,  7.79465776,\n",
       "        7.88647746,  7.97829716,  8.07011686,  8.16193656,  8.25375626,\n",
       "        8.34557596,  8.43739566,  8.52921536,  8.62103506,  8.71285476,\n",
       "        8.80467446,  8.89649416,  8.98831386,  9.08013356,  9.17195326,\n",
       "        9.26377295,  9.35559265,  9.44741235,  9.53923205,  9.63105175,\n",
       "        9.72287145,  9.81469115,  9.90651085,  9.99833055, 10.09015025,\n",
       "       10.18196995, 10.27378965, 10.36560935, 10.45742905, 10.54924875,\n",
       "       10.64106845, 10.73288815, 10.82470785, 10.91652755, 11.00834725,\n",
       "       11.10016694, 11.19198664, 11.28380634, 11.37562604, 11.46744574,\n",
       "       11.55926544, 11.65108514, 11.74290484, 11.83472454, 11.92654424,\n",
       "       12.01836394, 12.11018364, 12.20200334, 12.29382304, 12.38564274,\n",
       "       12.47746244, 12.56928214, 12.66110184, 12.75292154, 12.84474124,\n",
       "       12.93656093, 13.02838063, 13.12020033, 13.21202003, 13.30383973,\n",
       "       13.39565943, 13.48747913, 13.57929883, 13.67111853, 13.76293823,\n",
       "       13.85475793, 13.94657763, 14.03839733, 14.13021703, 14.22203673,\n",
       "       14.31385643, 14.40567613, 14.49749583, 14.58931553, 14.68113523,\n",
       "       14.77295492, 14.86477462, 14.95659432, 15.04841402, 15.14023372,\n",
       "       15.23205342, 15.32387312, 15.41569282, 15.50751252, 15.59933222,\n",
       "       15.69115192, 15.78297162, 15.87479132, 15.96661102, 16.05843072,\n",
       "       16.15025042, 16.24207012, 16.33388982, 16.42570952, 16.51752922,\n",
       "       16.60934891, 16.70116861, 16.79298831, 16.88480801, 16.97662771,\n",
       "       17.06844741, 17.16026711, 17.25208681, 17.34390651, 17.43572621,\n",
       "       17.52754591, 17.61936561, 17.71118531, 17.80300501, 17.89482471,\n",
       "       17.98664441, 18.07846411, 18.17028381, 18.26210351, 18.35392321,\n",
       "       18.4457429 , 18.5375626 , 18.6293823 , 18.721202  , 18.8130217 ,\n",
       "       18.9048414 , 18.9966611 , 19.0884808 , 19.1803005 , 19.2721202 ,\n",
       "       19.3639399 , 19.4557596 , 19.5475793 , 19.639399  , 19.7312187 ,\n",
       "       19.8230384 , 19.9148581 , 20.0066778 , 20.0984975 , 20.1903172 ,\n",
       "       20.28213689, 20.37395659, 20.46577629, 20.55759599, 20.64941569,\n",
       "       20.74123539, 20.83305509, 20.92487479, 21.01669449, 21.10851419,\n",
       "       21.20033389, 21.29215359, 21.38397329, 21.47579299, 21.56761269,\n",
       "       21.65943239, 21.75125209, 21.84307179, 21.93489149, 22.02671119,\n",
       "       22.11853088, 22.21035058, 22.30217028, 22.39398998, 22.48580968,\n",
       "       22.57762938, 22.66944908, 22.76126878, 22.85308848, 22.94490818,\n",
       "       23.03672788, 23.12854758, 23.22036728, 23.31218698, 23.40400668,\n",
       "       23.49582638, 23.58764608, 23.67946578, 23.77128548, 23.86310518,\n",
       "       23.95492487, 24.04674457, 24.13856427, 24.23038397, 24.32220367,\n",
       "       24.41402337, 24.50584307, 24.59766277, 24.68948247, 24.78130217,\n",
       "       24.87312187, 24.96494157, 25.05676127, 25.14858097, 25.24040067,\n",
       "       25.33222037, 25.42404007, 25.51585977, 25.60767947, 25.69949917,\n",
       "       25.79131886, 25.88313856, 25.97495826, 26.06677796, 26.15859766,\n",
       "       26.25041736, 26.34223706, 26.43405676, 26.52587646, 26.61769616,\n",
       "       26.70951586, 26.80133556, 26.89315526, 26.98497496, 27.07679466,\n",
       "       27.16861436, 27.26043406, 27.35225376, 27.44407346, 27.53589316,\n",
       "       27.62771285, 27.71953255, 27.81135225, 27.90317195, 27.99499165,\n",
       "       28.08681135, 28.17863105, 28.27045075, 28.36227045, 28.45409015,\n",
       "       28.54590985, 28.63772955, 28.72954925, 28.82136895, 28.91318865,\n",
       "       29.00500835, 29.09682805, 29.18864775, 29.28046745, 29.37228715,\n",
       "       29.46410684, 29.55592654, 29.64774624, 29.73956594, 29.83138564,\n",
       "       29.92320534, 30.01502504, 30.10684474, 30.19866444, 30.29048414,\n",
       "       30.38230384, 30.47412354, 30.56594324, 30.65776294, 30.74958264,\n",
       "       30.84140234, 30.93322204, 31.02504174, 31.11686144, 31.20868114,\n",
       "       31.30050083, 31.39232053, 31.48414023, 31.57595993, 31.66777963,\n",
       "       31.75959933, 31.85141903, 31.94323873, 32.03505843, 32.12687813,\n",
       "       32.21869783, 32.31051753, 32.40233723, 32.49415693, 32.58597663,\n",
       "       32.67779633, 32.76961603, 32.86143573, 32.95325543, 33.04507513,\n",
       "       33.13689482, 33.22871452, 33.32053422, 33.41235392, 33.50417362,\n",
       "       33.59599332, 33.68781302, 33.77963272, 33.87145242, 33.96327212,\n",
       "       34.05509182, 34.14691152, 34.23873122, 34.33055092, 34.42237062,\n",
       "       34.51419032, 34.60601002, 34.69782972, 34.78964942, 34.88146912,\n",
       "       34.97328881, 35.06510851, 35.15692821, 35.24874791, 35.34056761,\n",
       "       35.43238731, 35.52420701, 35.61602671, 35.70784641, 35.79966611,\n",
       "       35.89148581, 35.98330551, 36.07512521, 36.16694491, 36.25876461,\n",
       "       36.35058431, 36.44240401, 36.53422371, 36.62604341, 36.71786311,\n",
       "       36.8096828 , 36.9015025 , 36.9933222 , 37.0851419 , 37.1769616 ,\n",
       "       37.2687813 , 37.360601  , 37.4524207 , 37.5442404 , 37.6360601 ,\n",
       "       37.7278798 , 37.8196995 , 37.9115192 , 38.0033389 , 38.0951586 ,\n",
       "       38.1869783 , 38.278798  , 38.3706177 , 38.4624374 , 38.5542571 ,\n",
       "       38.64607679, 38.73789649, 38.82971619, 38.92153589, 39.01335559,\n",
       "       39.10517529, 39.19699499, 39.28881469, 39.38063439, 39.47245409,\n",
       "       39.56427379, 39.65609349, 39.74791319, 39.83973289, 39.93155259,\n",
       "       40.02337229, 40.11519199, 40.20701169, 40.29883139, 40.39065109,\n",
       "       40.48247078, 40.57429048, 40.66611018, 40.75792988, 40.84974958,\n",
       "       40.94156928, 41.03338898, 41.12520868, 41.21702838, 41.30884808,\n",
       "       41.40066778, 41.49248748, 41.58430718, 41.67612688, 41.76794658,\n",
       "       41.85976628, 41.95158598, 42.04340568, 42.13522538, 42.22704508,\n",
       "       42.31886477, 42.41068447, 42.50250417, 42.59432387, 42.68614357,\n",
       "       42.77796327, 42.86978297, 42.96160267, 43.05342237, 43.14524207,\n",
       "       43.23706177, 43.32888147, 43.42070117, 43.51252087, 43.60434057,\n",
       "       43.69616027, 43.78797997, 43.87979967, 43.97161937, 44.06343907,\n",
       "       44.15525876, 44.24707846, 44.33889816, 44.43071786, 44.52253756,\n",
       "       44.61435726, 44.70617696, 44.79799666, 44.88981636, 44.98163606,\n",
       "       45.07345576, 45.16527546, 45.25709516, 45.34891486, 45.44073456,\n",
       "       45.53255426, 45.62437396, 45.71619366, 45.80801336, 45.89983306,\n",
       "       45.99165275, 46.08347245, 46.17529215, 46.26711185, 46.35893155,\n",
       "       46.45075125, 46.54257095, 46.63439065, 46.72621035, 46.81803005,\n",
       "       46.90984975, 47.00166945, 47.09348915, 47.18530885, 47.27712855,\n",
       "       47.36894825, 47.46076795, 47.55258765, 47.64440735, 47.73622705,\n",
       "       47.82804674, 47.91986644, 48.01168614, 48.10350584, 48.19532554,\n",
       "       48.28714524, 48.37896494, 48.47078464, 48.56260434, 48.65442404,\n",
       "       48.74624374, 48.83806344, 48.92988314, 49.02170284, 49.11352254,\n",
       "       49.20534224, 49.29716194, 49.38898164, 49.48080134, 49.57262104,\n",
       "       49.66444073, 49.75626043, 49.84808013, 49.93989983, 50.03171953,\n",
       "       50.12353923, 50.21535893, 50.30717863, 50.39899833, 50.49081803,\n",
       "       50.58263773, 50.67445743, 50.76627713, 50.85809683, 50.94991653,\n",
       "       51.04173623, 51.13355593, 51.22537563, 51.31719533, 51.40901503,\n",
       "       51.50083472, 51.59265442, 51.68447412, 51.77629382, 51.86811352,\n",
       "       51.95993322, 52.05175292, 52.14357262, 52.23539232, 52.32721202,\n",
       "       52.41903172, 52.51085142, 52.60267112, 52.69449082, 52.78631052,\n",
       "       52.87813022, 52.96994992, 53.06176962, 53.15358932, 53.24540902,\n",
       "       53.33722871, 53.42904841, 53.52086811, 53.61268781, 53.70450751,\n",
       "       53.79632721, 53.88814691, 53.97996661, 54.07178631, 54.16360601,\n",
       "       54.25542571, 54.34724541, 54.43906511, 54.53088481, 54.62270451,\n",
       "       54.71452421, 54.80634391, 54.89816361, 54.98998331, 55.08180301,\n",
       "       55.1736227 , 55.2654424 , 55.3572621 , 55.4490818 , 55.5409015 ,\n",
       "       55.6327212 , 55.7245409 , 55.8163606 , 55.9081803 , 56.        ])"
      ]
     },
     "execution_count": 279,
     "metadata": {},
     "output_type": "execute_result"
    }
   ],
   "source": [
    "np.linspace(1,56,600)"
   ]
  },
  {
   "cell_type": "markdown",
   "metadata": {},
   "source": [
    "### eye"
   ]
  },
  {
   "cell_type": "code",
   "execution_count": 280,
   "metadata": {},
   "outputs": [
    {
     "data": {
      "text/plain": [
       "array([[1., 0., 0., 0., 0., 0., 0., 0., 0., 0., 0., 0.],\n",
       "       [0., 1., 0., 0., 0., 0., 0., 0., 0., 0., 0., 0.],\n",
       "       [0., 0., 1., 0., 0., 0., 0., 0., 0., 0., 0., 0.],\n",
       "       [0., 0., 0., 1., 0., 0., 0., 0., 0., 0., 0., 0.],\n",
       "       [0., 0., 0., 0., 1., 0., 0., 0., 0., 0., 0., 0.],\n",
       "       [0., 0., 0., 0., 0., 1., 0., 0., 0., 0., 0., 0.],\n",
       "       [0., 0., 0., 0., 0., 0., 1., 0., 0., 0., 0., 0.],\n",
       "       [0., 0., 0., 0., 0., 0., 0., 1., 0., 0., 0., 0.],\n",
       "       [0., 0., 0., 0., 0., 0., 0., 0., 1., 0., 0., 0.],\n",
       "       [0., 0., 0., 0., 0., 0., 0., 0., 0., 1., 0., 0.],\n",
       "       [0., 0., 0., 0., 0., 0., 0., 0., 0., 0., 1., 0.],\n",
       "       [0., 0., 0., 0., 0., 0., 0., 0., 0., 0., 0., 1.]])"
      ]
     },
     "execution_count": 280,
     "metadata": {},
     "output_type": "execute_result"
    }
   ],
   "source": [
    "np.eye(12)\n"
   ]
  },
  {
   "cell_type": "markdown",
   "metadata": {},
   "source": [
    "### random"
   ]
  },
  {
   "cell_type": "code",
   "execution_count": 281,
   "metadata": {},
   "outputs": [
    {
     "data": {
      "text/plain": [
       "array([[ 0.79827626, -0.02997269,  0.52003845,  0.16381135],\n",
       "       [ 1.32584746, -1.21934477, -0.27368926, -3.35554754]])"
      ]
     },
     "execution_count": 281,
     "metadata": {},
     "output_type": "execute_result"
    }
   ],
   "source": [
    "np.random.randn(2,4)"
   ]
  },
  {
   "cell_type": "code",
   "execution_count": 282,
   "metadata": {},
   "outputs": [
    {
     "data": {
      "text/plain": [
       "30"
      ]
     },
     "execution_count": 282,
     "metadata": {},
     "output_type": "execute_result"
    }
   ],
   "source": [
    "np.random.randint(1,43)"
   ]
  },
  {
   "cell_type": "code",
   "execution_count": 283,
   "metadata": {},
   "outputs": [
    {
     "data": {
      "text/plain": [
       "array([264, 293, 231, 227, 283])"
      ]
     },
     "execution_count": 283,
     "metadata": {},
     "output_type": "execute_result"
    }
   ],
   "source": [
    "np.random.randint(1,340,5)"
   ]
  },
  {
   "cell_type": "code",
   "execution_count": 284,
   "metadata": {},
   "outputs": [],
   "source": [
    "numpay = np.arange(9)"
   ]
  },
  {
   "cell_type": "code",
   "execution_count": 285,
   "metadata": {},
   "outputs": [
    {
     "data": {
      "text/plain": [
       "array([0, 1, 2, 3, 4, 5, 6, 7, 8])"
      ]
     },
     "execution_count": 285,
     "metadata": {},
     "output_type": "execute_result"
    }
   ],
   "source": [
    "numpay"
   ]
  },
  {
   "cell_type": "code",
   "execution_count": 286,
   "metadata": {},
   "outputs": [],
   "source": [
    "numpayy = np.random.randint(23,545,12)"
   ]
  },
  {
   "cell_type": "code",
   "execution_count": 287,
   "metadata": {},
   "outputs": [
    {
     "data": {
      "text/plain": [
       "array([182, 263, 531, 524, 522, 333, 365, 290,  38, 407, 305, 135])"
      ]
     },
     "execution_count": 287,
     "metadata": {},
     "output_type": "execute_result"
    }
   ],
   "source": [
    "numpayy"
   ]
  },
  {
   "cell_type": "code",
   "execution_count": 288,
   "metadata": {},
   "outputs": [],
   "source": [
    "reshapenumpay = numpay.reshape(3,3)"
   ]
  },
  {
   "cell_type": "code",
   "execution_count": 289,
   "metadata": {},
   "outputs": [
    {
     "data": {
      "text/plain": [
       "8"
      ]
     },
     "execution_count": 289,
     "metadata": {},
     "output_type": "execute_result"
    }
   ],
   "source": [
    "numpay.max()"
   ]
  },
  {
   "cell_type": "code",
   "execution_count": 290,
   "metadata": {},
   "outputs": [
    {
     "data": {
      "text/plain": [
       "531"
      ]
     },
     "execution_count": 290,
     "metadata": {},
     "output_type": "execute_result"
    }
   ],
   "source": [
    "numpayy.max()"
   ]
  },
  {
   "cell_type": "code",
   "execution_count": 291,
   "metadata": {},
   "outputs": [
    {
     "data": {
      "text/plain": [
       "38"
      ]
     },
     "execution_count": 291,
     "metadata": {},
     "output_type": "execute_result"
    }
   ],
   "source": [
    "numpayy.min()"
   ]
  },
  {
   "cell_type": "code",
   "execution_count": 292,
   "metadata": {},
   "outputs": [
    {
     "data": {
      "text/plain": [
       "2"
      ]
     },
     "execution_count": 292,
     "metadata": {},
     "output_type": "execute_result"
    }
   ],
   "source": [
    "numpayy.argmax()"
   ]
  },
  {
   "cell_type": "code",
   "execution_count": 293,
   "metadata": {},
   "outputs": [
    {
     "data": {
      "text/plain": [
       "8"
      ]
     },
     "execution_count": 293,
     "metadata": {},
     "output_type": "execute_result"
    }
   ],
   "source": [
    "numpayy.argmin()"
   ]
  },
  {
   "cell_type": "code",
   "execution_count": 294,
   "metadata": {},
   "outputs": [
    {
     "data": {
      "text/plain": [
       "(3, 3)"
      ]
     },
     "execution_count": 294,
     "metadata": {},
     "output_type": "execute_result"
    }
   ],
   "source": [
    "reshapenumpay.shape"
   ]
  },
  {
   "cell_type": "code",
   "execution_count": 295,
   "metadata": {},
   "outputs": [],
   "source": [
    "newnumpayy = numpayy.copy()"
   ]
  },
  {
   "cell_type": "code",
   "execution_count": 296,
   "metadata": {},
   "outputs": [
    {
     "data": {
      "text/plain": [
       "array([182, 263, 531, 524, 522, 333, 365, 290,  38, 407, 305, 135])"
      ]
     },
     "execution_count": 296,
     "metadata": {},
     "output_type": "execute_result"
    }
   ],
   "source": [
    "newnumpayy"
   ]
  },
  {
   "cell_type": "code",
   "execution_count": 297,
   "metadata": {},
   "outputs": [],
   "source": [
    "carry = numpayy[2:5]"
   ]
  },
  {
   "cell_type": "code",
   "execution_count": 298,
   "metadata": {},
   "outputs": [],
   "source": [
    "carry[:] = 200"
   ]
  },
  {
   "cell_type": "code",
   "execution_count": 299,
   "metadata": {},
   "outputs": [
    {
     "data": {
      "text/plain": [
       "array([182, 263, 531, 524, 522, 333, 365, 290,  38, 407, 305, 135])"
      ]
     },
     "execution_count": 299,
     "metadata": {},
     "output_type": "execute_result"
    }
   ],
   "source": [
    "# to put just in [2:5] arrays\n",
    "newnumpayy"
   ]
  },
  {
   "cell_type": "markdown",
   "metadata": {},
   "source": [
    "### matrix"
   ]
  },
  {
   "cell_type": "code",
   "execution_count": 300,
   "metadata": {},
   "outputs": [],
   "source": [
    "mylist = [[1,2,3],[4,5,7],[8,9,12]]\n",
    "matrixArray = np.array(mylist)"
   ]
  },
  {
   "cell_type": "code",
   "execution_count": 301,
   "metadata": {},
   "outputs": [
    {
     "data": {
      "text/plain": [
       "array([[ 1,  2,  3],\n",
       "       [ 4,  5,  7],\n",
       "       [ 8,  9, 12]])"
      ]
     },
     "execution_count": 301,
     "metadata": {},
     "output_type": "execute_result"
    }
   ],
   "source": [
    "matrixArray"
   ]
  },
  {
   "cell_type": "code",
   "execution_count": 302,
   "metadata": {},
   "outputs": [
    {
     "data": {
      "text/plain": [
       "7"
      ]
     },
     "execution_count": 302,
     "metadata": {},
     "output_type": "execute_result"
    }
   ],
   "source": [
    "matrixArray[1,2]"
   ]
  },
  {
   "cell_type": "code",
   "execution_count": 303,
   "metadata": {},
   "outputs": [
    {
     "data": {
      "text/plain": [
       "array([ 3,  7, 12])"
      ]
     },
     "execution_count": 303,
     "metadata": {},
     "output_type": "execute_result"
    }
   ],
   "source": [
    "matrixArray[0:,2]"
   ]
  },
  {
   "cell_type": "code",
   "execution_count": 304,
   "metadata": {},
   "outputs": [
    {
     "data": {
      "text/plain": [
       "array([[12]])"
      ]
     },
     "execution_count": 304,
     "metadata": {},
     "output_type": "execute_result"
    }
   ],
   "source": [
    "matrixArray[2:,2:]"
   ]
  },
  {
   "cell_type": "code",
   "execution_count": 305,
   "metadata": {
    "scrolled": true
   },
   "outputs": [
    {
     "data": {
      "text/plain": [
       "array([[ 1,  2,  3],\n",
       "       [ 4,  5,  7],\n",
       "       [ 8,  9, 12]])"
      ]
     },
     "execution_count": 305,
     "metadata": {},
     "output_type": "execute_result"
    }
   ],
   "source": [
    "newMatrix = np.array(matrixArray)\n",
    "newMatrix"
   ]
  },
  {
   "cell_type": "code",
   "execution_count": 306,
   "metadata": {},
   "outputs": [
    {
     "data": {
      "text/plain": [
       "array([[ 4,  5,  7],\n",
       "       [ 1,  2,  3],\n",
       "       [ 8,  9, 12]])"
      ]
     },
     "execution_count": 306,
     "metadata": {},
     "output_type": "execute_result"
    }
   ],
   "source": [
    "newMatrix[[1,0,2]]"
   ]
  },
  {
   "cell_type": "markdown",
   "metadata": {},
   "source": [
    "### operations"
   ]
  },
  {
   "cell_type": "code",
   "execution_count": 311,
   "metadata": {},
   "outputs": [],
   "source": [
    "yenidizi = np.random.randint(5,25,20)"
   ]
  },
  {
   "cell_type": "code",
   "execution_count": 312,
   "metadata": {},
   "outputs": [
    {
     "data": {
      "text/plain": [
       "array([18, 10, 17, 22, 16,  8, 20, 12,  6, 23, 18, 12, 15, 18,  8, 15,  6,\n",
       "       12, 18, 12])"
      ]
     },
     "execution_count": 312,
     "metadata": {},
     "output_type": "execute_result"
    }
   ],
   "source": [
    "yenidizi"
   ]
  },
  {
   "cell_type": "code",
   "execution_count": 313,
   "metadata": {},
   "outputs": [
    {
     "data": {
      "text/plain": [
       "array([ True, False,  True,  True,  True, False,  True, False, False,\n",
       "        True,  True, False,  True,  True, False,  True, False, False,\n",
       "        True, False])"
      ]
     },
     "execution_count": 313,
     "metadata": {},
     "output_type": "execute_result"
    }
   ],
   "source": [
    "yenidizi > 12"
   ]
  },
  {
   "cell_type": "code",
   "execution_count": 318,
   "metadata": {},
   "outputs": [
    {
     "data": {
      "text/plain": [
       "array([0, 0, 0, 0, 0, 0, 0, 0, 0, 0, 0, 0, 0, 0, 0, 0, 0, 0, 0, 0])"
      ]
     },
     "execution_count": 318,
     "metadata": {},
     "output_type": "execute_result"
    }
   ],
   "source": [
    "yenidizi - yenidizi"
   ]
  },
  {
   "cell_type": "code",
   "execution_count": 319,
   "metadata": {
    "scrolled": true
   },
   "outputs": [
    {
     "data": {
      "text/plain": [
       "array([4.24264069, 3.16227766, 4.12310563, 4.69041576, 4.        ,\n",
       "       2.82842712, 4.47213595, 3.46410162, 2.44948974, 4.79583152,\n",
       "       4.24264069, 3.46410162, 3.87298335, 4.24264069, 2.82842712,\n",
       "       3.87298335, 2.44948974, 3.46410162, 4.24264069, 3.46410162])"
      ]
     },
     "execution_count": 319,
     "metadata": {},
     "output_type": "execute_result"
    }
   ],
   "source": [
    "np.sqrt(yenidizi)"
   ]
  },
  {
   "cell_type": "code",
   "execution_count": 320,
   "metadata": {},
   "outputs": [
    {
     "data": {
      "text/plain": [
       "6"
      ]
     },
     "execution_count": 320,
     "metadata": {},
     "output_type": "execute_result"
    }
   ],
   "source": [
    "np.min(yenidizi)"
   ]
  },
  {
   "cell_type": "code",
   "execution_count": 321,
   "metadata": {},
   "outputs": [
    {
     "data": {
      "text/plain": [
       "23"
      ]
     },
     "execution_count": 321,
     "metadata": {},
     "output_type": "execute_result"
    }
   ],
   "source": [
    "np.max(yenidizi)"
   ]
  }
 ],
 "metadata": {
  "kernelspec": {
   "display_name": "Python 3",
   "language": "python",
   "name": "python3"
  },
  "language_info": {
   "codemirror_mode": {
    "name": "ipython",
    "version": 3
   },
   "file_extension": ".py",
   "mimetype": "text/x-python",
   "name": "python",
   "nbconvert_exporter": "python",
   "pygments_lexer": "ipython3",
   "version": "3.8.3"
  }
 },
 "nbformat": 4,
 "nbformat_minor": 4
}
