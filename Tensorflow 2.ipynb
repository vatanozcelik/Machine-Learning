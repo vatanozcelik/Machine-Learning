{
 "cells": [
  {
   "cell_type": "code",
   "execution_count": 155,
   "metadata": {},
   "outputs": [],
   "source": [
    "import pandas as pd\n",
    "import numpy as np\n",
    "import matplotlib.pyplot as plt\n",
    "import seaborn as sbn"
   ]
  },
  {
   "cell_type": "code",
   "execution_count": 156,
   "metadata": {},
   "outputs": [],
   "source": [
    "data = pd.read_excel(\"merc.xlsx\")"
   ]
  },
  {
   "cell_type": "code",
   "execution_count": 157,
   "metadata": {},
   "outputs": [
    {
     "data": {
      "text/html": [
       "<div>\n",
       "<style scoped>\n",
       "    .dataframe tbody tr th:only-of-type {\n",
       "        vertical-align: middle;\n",
       "    }\n",
       "\n",
       "    .dataframe tbody tr th {\n",
       "        vertical-align: top;\n",
       "    }\n",
       "\n",
       "    .dataframe thead th {\n",
       "        text-align: right;\n",
       "    }\n",
       "</style>\n",
       "<table border=\"1\" class=\"dataframe\">\n",
       "  <thead>\n",
       "    <tr style=\"text-align: right;\">\n",
       "      <th></th>\n",
       "      <th>year</th>\n",
       "      <th>price</th>\n",
       "      <th>transmission</th>\n",
       "      <th>mileage</th>\n",
       "      <th>tax</th>\n",
       "      <th>mpg</th>\n",
       "      <th>engineSize</th>\n",
       "    </tr>\n",
       "  </thead>\n",
       "  <tbody>\n",
       "    <tr>\n",
       "      <th>0</th>\n",
       "      <td>2005</td>\n",
       "      <td>5200</td>\n",
       "      <td>Automatic</td>\n",
       "      <td>63000</td>\n",
       "      <td>325</td>\n",
       "      <td>32.1</td>\n",
       "      <td>1.8</td>\n",
       "    </tr>\n",
       "    <tr>\n",
       "      <th>1</th>\n",
       "      <td>2017</td>\n",
       "      <td>34948</td>\n",
       "      <td>Automatic</td>\n",
       "      <td>27000</td>\n",
       "      <td>20</td>\n",
       "      <td>61.4</td>\n",
       "      <td>2.1</td>\n",
       "    </tr>\n",
       "    <tr>\n",
       "      <th>2</th>\n",
       "      <td>2016</td>\n",
       "      <td>49948</td>\n",
       "      <td>Automatic</td>\n",
       "      <td>6200</td>\n",
       "      <td>555</td>\n",
       "      <td>28.0</td>\n",
       "      <td>5.5</td>\n",
       "    </tr>\n",
       "    <tr>\n",
       "      <th>3</th>\n",
       "      <td>2016</td>\n",
       "      <td>61948</td>\n",
       "      <td>Automatic</td>\n",
       "      <td>16000</td>\n",
       "      <td>325</td>\n",
       "      <td>30.4</td>\n",
       "      <td>4.0</td>\n",
       "    </tr>\n",
       "    <tr>\n",
       "      <th>4</th>\n",
       "      <td>2016</td>\n",
       "      <td>73948</td>\n",
       "      <td>Automatic</td>\n",
       "      <td>4000</td>\n",
       "      <td>325</td>\n",
       "      <td>30.1</td>\n",
       "      <td>4.0</td>\n",
       "    </tr>\n",
       "  </tbody>\n",
       "</table>\n",
       "</div>"
      ],
      "text/plain": [
       "   year  price transmission  mileage  tax   mpg  engineSize\n",
       "0  2005   5200    Automatic    63000  325  32.1         1.8\n",
       "1  2017  34948    Automatic    27000   20  61.4         2.1\n",
       "2  2016  49948    Automatic     6200  555  28.0         5.5\n",
       "3  2016  61948    Automatic    16000  325  30.4         4.0\n",
       "4  2016  73948    Automatic     4000  325  30.1         4.0"
      ]
     },
     "execution_count": 157,
     "metadata": {},
     "output_type": "execute_result"
    }
   ],
   "source": [
    "data.head()"
   ]
  },
  {
   "cell_type": "code",
   "execution_count": 158,
   "metadata": {},
   "outputs": [
    {
     "data": {
      "text/plain": [
       "(13119, 7)"
      ]
     },
     "execution_count": 158,
     "metadata": {},
     "output_type": "execute_result"
    }
   ],
   "source": [
    "data.shape"
   ]
  },
  {
   "cell_type": "code",
   "execution_count": 159,
   "metadata": {},
   "outputs": [
    {
     "data": {
      "text/html": [
       "<div>\n",
       "<style scoped>\n",
       "    .dataframe tbody tr th:only-of-type {\n",
       "        vertical-align: middle;\n",
       "    }\n",
       "\n",
       "    .dataframe tbody tr th {\n",
       "        vertical-align: top;\n",
       "    }\n",
       "\n",
       "    .dataframe thead th {\n",
       "        text-align: right;\n",
       "    }\n",
       "</style>\n",
       "<table border=\"1\" class=\"dataframe\">\n",
       "  <thead>\n",
       "    <tr style=\"text-align: right;\">\n",
       "      <th></th>\n",
       "      <th>year</th>\n",
       "      <th>price</th>\n",
       "      <th>mileage</th>\n",
       "      <th>tax</th>\n",
       "      <th>mpg</th>\n",
       "      <th>engineSize</th>\n",
       "    </tr>\n",
       "  </thead>\n",
       "  <tbody>\n",
       "    <tr>\n",
       "      <th>count</th>\n",
       "      <td>13119.000000</td>\n",
       "      <td>13119.000000</td>\n",
       "      <td>13119.000000</td>\n",
       "      <td>13119.000000</td>\n",
       "      <td>13119.000000</td>\n",
       "      <td>13119.000000</td>\n",
       "    </tr>\n",
       "    <tr>\n",
       "      <th>mean</th>\n",
       "      <td>2017.296288</td>\n",
       "      <td>24698.596920</td>\n",
       "      <td>21949.559037</td>\n",
       "      <td>129.972178</td>\n",
       "      <td>55.155843</td>\n",
       "      <td>2.071530</td>\n",
       "    </tr>\n",
       "    <tr>\n",
       "      <th>std</th>\n",
       "      <td>2.224709</td>\n",
       "      <td>11842.675542</td>\n",
       "      <td>21176.512267</td>\n",
       "      <td>65.260286</td>\n",
       "      <td>15.220082</td>\n",
       "      <td>0.572426</td>\n",
       "    </tr>\n",
       "    <tr>\n",
       "      <th>min</th>\n",
       "      <td>1970.000000</td>\n",
       "      <td>650.000000</td>\n",
       "      <td>1.000000</td>\n",
       "      <td>0.000000</td>\n",
       "      <td>1.100000</td>\n",
       "      <td>0.000000</td>\n",
       "    </tr>\n",
       "    <tr>\n",
       "      <th>25%</th>\n",
       "      <td>2016.000000</td>\n",
       "      <td>17450.000000</td>\n",
       "      <td>6097.500000</td>\n",
       "      <td>125.000000</td>\n",
       "      <td>45.600000</td>\n",
       "      <td>1.800000</td>\n",
       "    </tr>\n",
       "    <tr>\n",
       "      <th>50%</th>\n",
       "      <td>2018.000000</td>\n",
       "      <td>22480.000000</td>\n",
       "      <td>15189.000000</td>\n",
       "      <td>145.000000</td>\n",
       "      <td>56.500000</td>\n",
       "      <td>2.000000</td>\n",
       "    </tr>\n",
       "    <tr>\n",
       "      <th>75%</th>\n",
       "      <td>2019.000000</td>\n",
       "      <td>28980.000000</td>\n",
       "      <td>31779.500000</td>\n",
       "      <td>145.000000</td>\n",
       "      <td>64.200000</td>\n",
       "      <td>2.100000</td>\n",
       "    </tr>\n",
       "    <tr>\n",
       "      <th>max</th>\n",
       "      <td>2020.000000</td>\n",
       "      <td>159999.000000</td>\n",
       "      <td>259000.000000</td>\n",
       "      <td>580.000000</td>\n",
       "      <td>217.300000</td>\n",
       "      <td>6.200000</td>\n",
       "    </tr>\n",
       "  </tbody>\n",
       "</table>\n",
       "</div>"
      ],
      "text/plain": [
       "               year          price        mileage           tax           mpg  \\\n",
       "count  13119.000000   13119.000000   13119.000000  13119.000000  13119.000000   \n",
       "mean    2017.296288   24698.596920   21949.559037    129.972178     55.155843   \n",
       "std        2.224709   11842.675542   21176.512267     65.260286     15.220082   \n",
       "min     1970.000000     650.000000       1.000000      0.000000      1.100000   \n",
       "25%     2016.000000   17450.000000    6097.500000    125.000000     45.600000   \n",
       "50%     2018.000000   22480.000000   15189.000000    145.000000     56.500000   \n",
       "75%     2019.000000   28980.000000   31779.500000    145.000000     64.200000   \n",
       "max     2020.000000  159999.000000  259000.000000    580.000000    217.300000   \n",
       "\n",
       "         engineSize  \n",
       "count  13119.000000  \n",
       "mean       2.071530  \n",
       "std        0.572426  \n",
       "min        0.000000  \n",
       "25%        1.800000  \n",
       "50%        2.000000  \n",
       "75%        2.100000  \n",
       "max        6.200000  "
      ]
     },
     "execution_count": 159,
     "metadata": {},
     "output_type": "execute_result"
    }
   ],
   "source": [
    "data.describe()"
   ]
  },
  {
   "cell_type": "code",
   "execution_count": 160,
   "metadata": {},
   "outputs": [
    {
     "data": {
      "text/plain": [
       "year            0\n",
       "price           0\n",
       "transmission    0\n",
       "mileage         0\n",
       "tax             0\n",
       "mpg             0\n",
       "engineSize      0\n",
       "dtype: int64"
      ]
     },
     "execution_count": 160,
     "metadata": {},
     "output_type": "execute_result"
    }
   ],
   "source": [
    "data.isnull().sum()"
   ]
  },
  {
   "cell_type": "code",
   "execution_count": 161,
   "metadata": {},
   "outputs": [
    {
     "name": "stderr",
     "output_type": "stream",
     "text": [
      "C:\\Users\\Dell\\anaconda3\\envs\\tf\\lib\\site-packages\\seaborn\\distributions.py:2551: FutureWarning: `distplot` is a deprecated function and will be removed in a future version. Please adapt your code to use either `displot` (a figure-level function with similar flexibility) or `histplot` (an axes-level function for histograms).\n",
      "  warnings.warn(msg, FutureWarning)\n"
     ]
    },
    {
     "data": {
      "text/plain": [
       "<AxesSubplot:xlabel='price', ylabel='Density'>"
      ]
     },
     "execution_count": 161,
     "metadata": {},
     "output_type": "execute_result"
    },
    {
     "data": {
      "image/png": "[encoded data removed]",
      "text/plain": [
       "<Figure size 504x360 with 1 Axes>"
      ]
     },
     "metadata": {
      "needs_background": "light"
     },
     "output_type": "display_data"
    }
   ],
   "source": [
    "plt.figure(figsize=(7,5))\n",
    "sbn.distplot(data[\"price\"])"
   ]
  },
  {
   "cell_type": "code",
   "execution_count": 162,
   "metadata": {},
   "outputs": [
    {
     "name": "stderr",
     "output_type": "stream",
     "text": [
      "C:\\Users\\Dell\\anaconda3\\envs\\tf\\lib\\site-packages\\seaborn\\_decorators.py:43: FutureWarning: Pass the following variable as a keyword arg: x. From version 0.12, the only valid positional argument will be `data`, and passing other arguments without an explicit keyword will result in an error or misinterpretation.\n",
      "  FutureWarning\n"
     ]
    },
    {
     "data": {
      "text/plain": [
       "<AxesSubplot:xlabel='year', ylabel='count'>"
      ]
     },
     "execution_count": 162,
     "metadata": {},
     "output_type": "execute_result"
    },
    {
     "data": {
      "image/png": "[encoded data removed]",
      "text/plain": [
       "<Figure size 432x288 with 1 Axes>"
      ]
     },
     "metadata": {
      "needs_background": "light"
     },
     "output_type": "display_data"
    }
   ],
   "source": [
    "sbn.countplot(data[\"year\"])"
   ]
  },
  {
   "cell_type": "code",
   "execution_count": 163,
   "metadata": {},
   "outputs": [
    {
     "data": {
      "text/html": [
       "<div>\n",
       "<style scoped>\n",
       "    .dataframe tbody tr th:only-of-type {\n",
       "        vertical-align: middle;\n",
       "    }\n",
       "\n",
       "    .dataframe tbody tr th {\n",
       "        vertical-align: top;\n",
       "    }\n",
       "\n",
       "    .dataframe thead th {\n",
       "        text-align: right;\n",
       "    }\n",
       "</style>\n",
       "<table border=\"1\" class=\"dataframe\">\n",
       "  <thead>\n",
       "    <tr style=\"text-align: right;\">\n",
       "      <th></th>\n",
       "      <th>year</th>\n",
       "      <th>price</th>\n",
       "      <th>mileage</th>\n",
       "      <th>tax</th>\n",
       "      <th>mpg</th>\n",
       "      <th>engineSize</th>\n",
       "    </tr>\n",
       "  </thead>\n",
       "  <tbody>\n",
       "    <tr>\n",
       "      <th>year</th>\n",
       "      <td>1.000000</td>\n",
       "      <td>0.520712</td>\n",
       "      <td>-0.738027</td>\n",
       "      <td>0.012480</td>\n",
       "      <td>-0.094626</td>\n",
       "      <td>-0.142147</td>\n",
       "    </tr>\n",
       "    <tr>\n",
       "      <th>price</th>\n",
       "      <td>0.520712</td>\n",
       "      <td>1.000000</td>\n",
       "      <td>-0.537214</td>\n",
       "      <td>0.268717</td>\n",
       "      <td>-0.438445</td>\n",
       "      <td>0.516126</td>\n",
       "    </tr>\n",
       "    <tr>\n",
       "      <th>mileage</th>\n",
       "      <td>-0.738027</td>\n",
       "      <td>-0.537214</td>\n",
       "      <td>1.000000</td>\n",
       "      <td>-0.160223</td>\n",
       "      <td>0.202850</td>\n",
       "      <td>0.063652</td>\n",
       "    </tr>\n",
       "    <tr>\n",
       "      <th>tax</th>\n",
       "      <td>0.012480</td>\n",
       "      <td>0.268717</td>\n",
       "      <td>-0.160223</td>\n",
       "      <td>1.000000</td>\n",
       "      <td>-0.513742</td>\n",
       "      <td>0.338341</td>\n",
       "    </tr>\n",
       "    <tr>\n",
       "      <th>mpg</th>\n",
       "      <td>-0.094626</td>\n",
       "      <td>-0.438445</td>\n",
       "      <td>0.202850</td>\n",
       "      <td>-0.513742</td>\n",
       "      <td>1.000000</td>\n",
       "      <td>-0.339862</td>\n",
       "    </tr>\n",
       "    <tr>\n",
       "      <th>engineSize</th>\n",
       "      <td>-0.142147</td>\n",
       "      <td>0.516126</td>\n",
       "      <td>0.063652</td>\n",
       "      <td>0.338341</td>\n",
       "      <td>-0.339862</td>\n",
       "      <td>1.000000</td>\n",
       "    </tr>\n",
       "  </tbody>\n",
       "</table>\n",
       "</div>"
      ],
      "text/plain": [
       "                year     price   mileage       tax       mpg  engineSize\n",
       "year        1.000000  0.520712 -0.738027  0.012480 -0.094626   -0.142147\n",
       "price       0.520712  1.000000 -0.537214  0.268717 -0.438445    0.516126\n",
       "mileage    -0.738027 -0.537214  1.000000 -0.160223  0.202850    0.063652\n",
       "tax         0.012480  0.268717 -0.160223  1.000000 -0.513742    0.338341\n",
       "mpg        -0.094626 -0.438445  0.202850 -0.513742  1.000000   -0.339862\n",
       "engineSize -0.142147  0.516126  0.063652  0.338341 -0.339862    1.000000"
      ]
     },
     "execution_count": 163,
     "metadata": {},
     "output_type": "execute_result"
    }
   ],
   "source": [
    "data.corr()"
   ]
  },
  {
   "cell_type": "code",
   "execution_count": 164,
   "metadata": {},
   "outputs": [
    {
     "data": {
      "text/plain": [
       "mileage      -0.537214\n",
       "mpg          -0.438445\n",
       "tax           0.268717\n",
       "engineSize    0.516126\n",
       "year          0.520712\n",
       "price         1.000000\n",
       "Name: price, dtype: float64"
      ]
     },
     "execution_count": 164,
     "metadata": {},
     "output_type": "execute_result"
    }
   ],
   "source": [
    "data.corr()[\"price\"].sort_values()"
   ]
  },
  {
   "cell_type": "code",
   "execution_count": 165,
   "metadata": {},
   "outputs": [
    {
     "data": {
      "text/plain": [
       "<AxesSubplot:xlabel='mileage', ylabel='price'>"
      ]
     },
     "execution_count": 165,
     "metadata": {},
     "output_type": "execute_result"
    },
    {
     "data": {
      "image/png": "[encoded data removed]",
      "text/plain": [
       "<Figure size 432x288 with 1 Axes>"
      ]
     },
     "metadata": {
      "needs_background": "light"
     },
     "output_type": "display_data"
    }
   ],
   "source": [
    "sbn.scatterplot(x=\"mileage\", y=\"price\",data=data)"
   ]
  },
  {
   "cell_type": "code",
   "execution_count": 166,
   "metadata": {
    "scrolled": true
   },
   "outputs": [
    {
     "data": {
      "text/html": [
       "<div>\n",
       "<style scoped>\n",
       "    .dataframe tbody tr th:only-of-type {\n",
       "        vertical-align: middle;\n",
       "    }\n",
       "\n",
       "    .dataframe tbody tr th {\n",
       "        vertical-align: top;\n",
       "    }\n",
       "\n",
       "    .dataframe thead th {\n",
       "        text-align: right;\n",
       "    }\n",
       "</style>\n",
       "<table border=\"1\" class=\"dataframe\">\n",
       "  <thead>\n",
       "    <tr style=\"text-align: right;\">\n",
       "      <th></th>\n",
       "      <th>year</th>\n",
       "      <th>price</th>\n",
       "      <th>transmission</th>\n",
       "      <th>mileage</th>\n",
       "      <th>tax</th>\n",
       "      <th>mpg</th>\n",
       "      <th>engineSize</th>\n",
       "    </tr>\n",
       "  </thead>\n",
       "  <tbody>\n",
       "    <tr>\n",
       "      <th>6199</th>\n",
       "      <td>2020</td>\n",
       "      <td>159999</td>\n",
       "      <td>Semi-Auto</td>\n",
       "      <td>1350</td>\n",
       "      <td>145</td>\n",
       "      <td>21.4</td>\n",
       "      <td>4.0</td>\n",
       "    </tr>\n",
       "    <tr>\n",
       "      <th>10044</th>\n",
       "      <td>2020</td>\n",
       "      <td>154998</td>\n",
       "      <td>Automatic</td>\n",
       "      <td>3000</td>\n",
       "      <td>150</td>\n",
       "      <td>21.4</td>\n",
       "      <td>4.0</td>\n",
       "    </tr>\n",
       "    <tr>\n",
       "      <th>5</th>\n",
       "      <td>2011</td>\n",
       "      <td>149948</td>\n",
       "      <td>Automatic</td>\n",
       "      <td>3000</td>\n",
       "      <td>570</td>\n",
       "      <td>21.4</td>\n",
       "      <td>6.2</td>\n",
       "    </tr>\n",
       "    <tr>\n",
       "      <th>8737</th>\n",
       "      <td>2019</td>\n",
       "      <td>140319</td>\n",
       "      <td>Semi-Auto</td>\n",
       "      <td>785</td>\n",
       "      <td>150</td>\n",
       "      <td>22.1</td>\n",
       "      <td>4.0</td>\n",
       "    </tr>\n",
       "    <tr>\n",
       "      <th>6386</th>\n",
       "      <td>2018</td>\n",
       "      <td>139995</td>\n",
       "      <td>Semi-Auto</td>\n",
       "      <td>13046</td>\n",
       "      <td>145</td>\n",
       "      <td>21.4</td>\n",
       "      <td>4.0</td>\n",
       "    </tr>\n",
       "    <tr>\n",
       "      <th>8</th>\n",
       "      <td>2019</td>\n",
       "      <td>139948</td>\n",
       "      <td>Automatic</td>\n",
       "      <td>12000</td>\n",
       "      <td>145</td>\n",
       "      <td>21.4</td>\n",
       "      <td>4.0</td>\n",
       "    </tr>\n",
       "    <tr>\n",
       "      <th>9133</th>\n",
       "      <td>2019</td>\n",
       "      <td>139559</td>\n",
       "      <td>Semi-Auto</td>\n",
       "      <td>1000</td>\n",
       "      <td>145</td>\n",
       "      <td>22.1</td>\n",
       "      <td>4.0</td>\n",
       "    </tr>\n",
       "    <tr>\n",
       "      <th>8821</th>\n",
       "      <td>2020</td>\n",
       "      <td>138439</td>\n",
       "      <td>Semi-Auto</td>\n",
       "      <td>1000</td>\n",
       "      <td>145</td>\n",
       "      <td>22.1</td>\n",
       "      <td>4.0</td>\n",
       "    </tr>\n",
       "    <tr>\n",
       "      <th>5902</th>\n",
       "      <td>2018</td>\n",
       "      <td>135771</td>\n",
       "      <td>Semi-Auto</td>\n",
       "      <td>19000</td>\n",
       "      <td>145</td>\n",
       "      <td>21.4</td>\n",
       "      <td>4.0</td>\n",
       "    </tr>\n",
       "    <tr>\n",
       "      <th>7864</th>\n",
       "      <td>2018</td>\n",
       "      <td>135124</td>\n",
       "      <td>Semi-Auto</td>\n",
       "      <td>18234</td>\n",
       "      <td>150</td>\n",
       "      <td>21.4</td>\n",
       "      <td>4.0</td>\n",
       "    </tr>\n",
       "    <tr>\n",
       "      <th>8673</th>\n",
       "      <td>2019</td>\n",
       "      <td>134219</td>\n",
       "      <td>Semi-Auto</td>\n",
       "      <td>1000</td>\n",
       "      <td>145</td>\n",
       "      <td>24.8</td>\n",
       "      <td>4.0</td>\n",
       "    </tr>\n",
       "    <tr>\n",
       "      <th>6210</th>\n",
       "      <td>2019</td>\n",
       "      <td>129990</td>\n",
       "      <td>Automatic</td>\n",
       "      <td>1000</td>\n",
       "      <td>145</td>\n",
       "      <td>24.8</td>\n",
       "      <td>4.0</td>\n",
       "    </tr>\n",
       "    <tr>\n",
       "      <th>4759</th>\n",
       "      <td>2019</td>\n",
       "      <td>126000</td>\n",
       "      <td>Automatic</td>\n",
       "      <td>250</td>\n",
       "      <td>145</td>\n",
       "      <td>24.6</td>\n",
       "      <td>4.0</td>\n",
       "    </tr>\n",
       "    <tr>\n",
       "      <th>2647</th>\n",
       "      <td>2019</td>\n",
       "      <td>125796</td>\n",
       "      <td>Automatic</td>\n",
       "      <td>637</td>\n",
       "      <td>145</td>\n",
       "      <td>24.8</td>\n",
       "      <td>4.0</td>\n",
       "    </tr>\n",
       "    <tr>\n",
       "      <th>6223</th>\n",
       "      <td>2019</td>\n",
       "      <td>124999</td>\n",
       "      <td>Automatic</td>\n",
       "      <td>1500</td>\n",
       "      <td>145</td>\n",
       "      <td>31.7</td>\n",
       "      <td>4.0</td>\n",
       "    </tr>\n",
       "    <tr>\n",
       "      <th>4094</th>\n",
       "      <td>2019</td>\n",
       "      <td>124366</td>\n",
       "      <td>Semi-Auto</td>\n",
       "      <td>880</td>\n",
       "      <td>145</td>\n",
       "      <td>24.8</td>\n",
       "      <td>4.0</td>\n",
       "    </tr>\n",
       "    <tr>\n",
       "      <th>2629</th>\n",
       "      <td>2019</td>\n",
       "      <td>123846</td>\n",
       "      <td>Semi-Auto</td>\n",
       "      <td>2951</td>\n",
       "      <td>145</td>\n",
       "      <td>22.1</td>\n",
       "      <td>4.0</td>\n",
       "    </tr>\n",
       "    <tr>\n",
       "      <th>7134</th>\n",
       "      <td>2019</td>\n",
       "      <td>115359</td>\n",
       "      <td>Semi-Auto</td>\n",
       "      <td>1000</td>\n",
       "      <td>145</td>\n",
       "      <td>30.1</td>\n",
       "      <td>4.0</td>\n",
       "    </tr>\n",
       "    <tr>\n",
       "      <th>9159</th>\n",
       "      <td>2019</td>\n",
       "      <td>114199</td>\n",
       "      <td>Semi-Auto</td>\n",
       "      <td>891</td>\n",
       "      <td>145</td>\n",
       "      <td>22.6</td>\n",
       "      <td>4.0</td>\n",
       "    </tr>\n",
       "    <tr>\n",
       "      <th>1980</th>\n",
       "      <td>2019</td>\n",
       "      <td>109995</td>\n",
       "      <td>Semi-Auto</td>\n",
       "      <td>4688</td>\n",
       "      <td>150</td>\n",
       "      <td>31.7</td>\n",
       "      <td>4.0</td>\n",
       "    </tr>\n",
       "  </tbody>\n",
       "</table>\n",
       "</div>"
      ],
      "text/plain": [
       "       year   price transmission  mileage  tax   mpg  engineSize\n",
       "6199   2020  159999    Semi-Auto     1350  145  21.4         4.0\n",
       "10044  2020  154998    Automatic     3000  150  21.4         4.0\n",
       "5      2011  149948    Automatic     3000  570  21.4         6.2\n",
       "8737   2019  140319    Semi-Auto      785  150  22.1         4.0\n",
       "6386   2018  139995    Semi-Auto    13046  145  21.4         4.0\n",
       "8      2019  139948    Automatic    12000  145  21.4         4.0\n",
       "9133   2019  139559    Semi-Auto     1000  145  22.1         4.0\n",
       "8821   2020  138439    Semi-Auto     1000  145  22.1         4.0\n",
       "5902   2018  135771    Semi-Auto    19000  145  21.4         4.0\n",
       "7864   2018  135124    Semi-Auto    18234  150  21.4         4.0\n",
       "8673   2019  134219    Semi-Auto     1000  145  24.8         4.0\n",
       "6210   2019  129990    Automatic     1000  145  24.8         4.0\n",
       "4759   2019  126000    Automatic      250  145  24.6         4.0\n",
       "2647   2019  125796    Automatic      637  145  24.8         4.0\n",
       "6223   2019  124999    Automatic     1500  145  31.7         4.0\n",
       "4094   2019  124366    Semi-Auto      880  145  24.8         4.0\n",
       "2629   2019  123846    Semi-Auto     2951  145  22.1         4.0\n",
       "7134   2019  115359    Semi-Auto     1000  145  30.1         4.0\n",
       "9159   2019  114199    Semi-Auto      891  145  22.6         4.0\n",
       "1980   2019  109995    Semi-Auto     4688  150  31.7         4.0"
      ]
     },
     "execution_count": 166,
     "metadata": {},
     "output_type": "execute_result"
    }
   ],
   "source": [
    "# ascending(yukselen) en pahalidan ucuza\n",
    "data.sort_values(\"price\", ascending = False).head(20)"
   ]
  },
  {
   "cell_type": "code",
   "execution_count": 167,
   "metadata": {},
   "outputs": [
    {
     "data": {
      "text/plain": [
       "13119"
      ]
     },
     "execution_count": 167,
     "metadata": {},
     "output_type": "execute_result"
    }
   ],
   "source": [
    "len(data)"
   ]
  },
  {
   "cell_type": "code",
   "execution_count": 168,
   "metadata": {},
   "outputs": [
    {
     "data": {
      "text/plain": [
       "131.19"
      ]
     },
     "execution_count": 168,
     "metadata": {},
     "output_type": "execute_result"
    }
   ],
   "source": [
    "len(data) * 0.01"
   ]
  },
  {
   "cell_type": "code",
   "execution_count": 169,
   "metadata": {},
   "outputs": [],
   "source": [
    "# en yuksek olan 131 veriyi atacaz\n",
    "# iloc indexe gore locate et yerini bul\n",
    "yuzde99DF = data.sort_values(\"price\", ascending = False).iloc[131:]"
   ]
  },
  {
   "cell_type": "code",
   "execution_count": 170,
   "metadata": {},
   "outputs": [
    {
     "data": {
      "text/html": [
       "<div>\n",
       "<style scoped>\n",
       "    .dataframe tbody tr th:only-of-type {\n",
       "        vertical-align: middle;\n",
       "    }\n",
       "\n",
       "    .dataframe tbody tr th {\n",
       "        vertical-align: top;\n",
       "    }\n",
       "\n",
       "    .dataframe thead th {\n",
       "        text-align: right;\n",
       "    }\n",
       "</style>\n",
       "<table border=\"1\" class=\"dataframe\">\n",
       "  <thead>\n",
       "    <tr style=\"text-align: right;\">\n",
       "      <th></th>\n",
       "      <th>year</th>\n",
       "      <th>price</th>\n",
       "      <th>mileage</th>\n",
       "      <th>tax</th>\n",
       "      <th>mpg</th>\n",
       "      <th>engineSize</th>\n",
       "    </tr>\n",
       "  </thead>\n",
       "  <tbody>\n",
       "    <tr>\n",
       "      <th>count</th>\n",
       "      <td>12988.000000</td>\n",
       "      <td>12988.000000</td>\n",
       "      <td>12988.000000</td>\n",
       "      <td>12988.000000</td>\n",
       "      <td>12988.000000</td>\n",
       "      <td>12988.000000</td>\n",
       "    </tr>\n",
       "    <tr>\n",
       "      <th>mean</th>\n",
       "      <td>2017.281876</td>\n",
       "      <td>24074.926933</td>\n",
       "      <td>22132.741146</td>\n",
       "      <td>129.689714</td>\n",
       "      <td>55.437142</td>\n",
       "      <td>2.050901</td>\n",
       "    </tr>\n",
       "    <tr>\n",
       "      <th>std</th>\n",
       "      <td>2.228515</td>\n",
       "      <td>9866.224575</td>\n",
       "      <td>21196.776401</td>\n",
       "      <td>65.183076</td>\n",
       "      <td>15.025999</td>\n",
       "      <td>0.532596</td>\n",
       "    </tr>\n",
       "    <tr>\n",
       "      <th>min</th>\n",
       "      <td>1970.000000</td>\n",
       "      <td>650.000000</td>\n",
       "      <td>1.000000</td>\n",
       "      <td>0.000000</td>\n",
       "      <td>1.100000</td>\n",
       "      <td>0.000000</td>\n",
       "    </tr>\n",
       "    <tr>\n",
       "      <th>25%</th>\n",
       "      <td>2016.000000</td>\n",
       "      <td>17357.500000</td>\n",
       "      <td>6322.000000</td>\n",
       "      <td>125.000000</td>\n",
       "      <td>45.600000</td>\n",
       "      <td>1.675000</td>\n",
       "    </tr>\n",
       "    <tr>\n",
       "      <th>50%</th>\n",
       "      <td>2018.000000</td>\n",
       "      <td>22299.000000</td>\n",
       "      <td>15369.500000</td>\n",
       "      <td>145.000000</td>\n",
       "      <td>56.500000</td>\n",
       "      <td>2.000000</td>\n",
       "    </tr>\n",
       "    <tr>\n",
       "      <th>75%</th>\n",
       "      <td>2019.000000</td>\n",
       "      <td>28706.000000</td>\n",
       "      <td>31982.250000</td>\n",
       "      <td>145.000000</td>\n",
       "      <td>64.200000</td>\n",
       "      <td>2.100000</td>\n",
       "    </tr>\n",
       "    <tr>\n",
       "      <th>max</th>\n",
       "      <td>2020.000000</td>\n",
       "      <td>65990.000000</td>\n",
       "      <td>259000.000000</td>\n",
       "      <td>580.000000</td>\n",
       "      <td>217.300000</td>\n",
       "      <td>6.200000</td>\n",
       "    </tr>\n",
       "  </tbody>\n",
       "</table>\n",
       "</div>"
      ],
      "text/plain": [
       "               year         price        mileage           tax           mpg  \\\n",
       "count  12988.000000  12988.000000   12988.000000  12988.000000  12988.000000   \n",
       "mean    2017.281876  24074.926933   22132.741146    129.689714     55.437142   \n",
       "std        2.228515   9866.224575   21196.776401     65.183076     15.025999   \n",
       "min     1970.000000    650.000000       1.000000      0.000000      1.100000   \n",
       "25%     2016.000000  17357.500000    6322.000000    125.000000     45.600000   \n",
       "50%     2018.000000  22299.000000   15369.500000    145.000000     56.500000   \n",
       "75%     2019.000000  28706.000000   31982.250000    145.000000     64.200000   \n",
       "max     2020.000000  65990.000000  259000.000000    580.000000    217.300000   \n",
       "\n",
       "         engineSize  \n",
       "count  12988.000000  \n",
       "mean       2.050901  \n",
       "std        0.532596  \n",
       "min        0.000000  \n",
       "25%        1.675000  \n",
       "50%        2.000000  \n",
       "75%        2.100000  \n",
       "max        6.200000  "
      ]
     },
     "execution_count": 170,
     "metadata": {},
     "output_type": "execute_result"
    }
   ],
   "source": [
    "yuzde99DF.describe()"
   ]
  },
  {
   "cell_type": "code",
   "execution_count": 171,
   "metadata": {},
   "outputs": [
    {
     "name": "stderr",
     "output_type": "stream",
     "text": [
      "C:\\Users\\Dell\\anaconda3\\envs\\tf\\lib\\site-packages\\seaborn\\distributions.py:2551: FutureWarning: `distplot` is a deprecated function and will be removed in a future version. Please adapt your code to use either `displot` (a figure-level function with similar flexibility) or `histplot` (an axes-level function for histograms).\n",
      "  warnings.warn(msg, FutureWarning)\n"
     ]
    },
    {
     "data": {
      "text/plain": [
       "<AxesSubplot:xlabel='price', ylabel='Density'>"
      ]
     },
     "execution_count": 171,
     "metadata": {},
     "output_type": "execute_result"
    },
    {
     "data": {
      "image/png": "[encoded data removed]",
      "text/plain": [
       "<Figure size 504x360 with 1 Axes>"
      ]
     },
     "metadata": {
      "needs_background": "light"
     },
     "output_type": "display_data"
    }
   ],
   "source": [
    "plt.figure(figsize=(7,5))\n",
    "sbn.distplot(yuzde99DF[\"price\"])"
   ]
  },
  {
   "cell_type": "code",
   "execution_count": 172,
   "metadata": {},
   "outputs": [
    {
     "data": {
      "text/html": [
       "<div>\n",
       "<style scoped>\n",
       "    .dataframe tbody tr th:only-of-type {\n",
       "        vertical-align: middle;\n",
       "    }\n",
       "\n",
       "    .dataframe tbody tr th {\n",
       "        vertical-align: top;\n",
       "    }\n",
       "\n",
       "    .dataframe thead th {\n",
       "        text-align: right;\n",
       "    }\n",
       "</style>\n",
       "<table border=\"1\" class=\"dataframe\">\n",
       "  <thead>\n",
       "    <tr style=\"text-align: right;\">\n",
       "      <th></th>\n",
       "      <th>year</th>\n",
       "      <th>price</th>\n",
       "      <th>mileage</th>\n",
       "      <th>tax</th>\n",
       "      <th>mpg</th>\n",
       "      <th>engineSize</th>\n",
       "    </tr>\n",
       "  </thead>\n",
       "  <tbody>\n",
       "    <tr>\n",
       "      <th>count</th>\n",
       "      <td>13119.000000</td>\n",
       "      <td>13119.000000</td>\n",
       "      <td>13119.000000</td>\n",
       "      <td>13119.000000</td>\n",
       "      <td>13119.000000</td>\n",
       "      <td>13119.000000</td>\n",
       "    </tr>\n",
       "    <tr>\n",
       "      <th>mean</th>\n",
       "      <td>2017.296288</td>\n",
       "      <td>24698.596920</td>\n",
       "      <td>21949.559037</td>\n",
       "      <td>129.972178</td>\n",
       "      <td>55.155843</td>\n",
       "      <td>2.071530</td>\n",
       "    </tr>\n",
       "    <tr>\n",
       "      <th>std</th>\n",
       "      <td>2.224709</td>\n",
       "      <td>11842.675542</td>\n",
       "      <td>21176.512267</td>\n",
       "      <td>65.260286</td>\n",
       "      <td>15.220082</td>\n",
       "      <td>0.572426</td>\n",
       "    </tr>\n",
       "    <tr>\n",
       "      <th>min</th>\n",
       "      <td>1970.000000</td>\n",
       "      <td>650.000000</td>\n",
       "      <td>1.000000</td>\n",
       "      <td>0.000000</td>\n",
       "      <td>1.100000</td>\n",
       "      <td>0.000000</td>\n",
       "    </tr>\n",
       "    <tr>\n",
       "      <th>25%</th>\n",
       "      <td>2016.000000</td>\n",
       "      <td>17450.000000</td>\n",
       "      <td>6097.500000</td>\n",
       "      <td>125.000000</td>\n",
       "      <td>45.600000</td>\n",
       "      <td>1.800000</td>\n",
       "    </tr>\n",
       "    <tr>\n",
       "      <th>50%</th>\n",
       "      <td>2018.000000</td>\n",
       "      <td>22480.000000</td>\n",
       "      <td>15189.000000</td>\n",
       "      <td>145.000000</td>\n",
       "      <td>56.500000</td>\n",
       "      <td>2.000000</td>\n",
       "    </tr>\n",
       "    <tr>\n",
       "      <th>75%</th>\n",
       "      <td>2019.000000</td>\n",
       "      <td>28980.000000</td>\n",
       "      <td>31779.500000</td>\n",
       "      <td>145.000000</td>\n",
       "      <td>64.200000</td>\n",
       "      <td>2.100000</td>\n",
       "    </tr>\n",
       "    <tr>\n",
       "      <th>max</th>\n",
       "      <td>2020.000000</td>\n",
       "      <td>159999.000000</td>\n",
       "      <td>259000.000000</td>\n",
       "      <td>580.000000</td>\n",
       "      <td>217.300000</td>\n",
       "      <td>6.200000</td>\n",
       "    </tr>\n",
       "  </tbody>\n",
       "</table>\n",
       "</div>"
      ],
      "text/plain": [
       "               year          price        mileage           tax           mpg  \\\n",
       "count  13119.000000   13119.000000   13119.000000  13119.000000  13119.000000   \n",
       "mean    2017.296288   24698.596920   21949.559037    129.972178     55.155843   \n",
       "std        2.224709   11842.675542   21176.512267     65.260286     15.220082   \n",
       "min     1970.000000     650.000000       1.000000      0.000000      1.100000   \n",
       "25%     2016.000000   17450.000000    6097.500000    125.000000     45.600000   \n",
       "50%     2018.000000   22480.000000   15189.000000    145.000000     56.500000   \n",
       "75%     2019.000000   28980.000000   31779.500000    145.000000     64.200000   \n",
       "max     2020.000000  159999.000000  259000.000000    580.000000    217.300000   \n",
       "\n",
       "         engineSize  \n",
       "count  13119.000000  \n",
       "mean       2.071530  \n",
       "std        0.572426  \n",
       "min        0.000000  \n",
       "25%        1.800000  \n",
       "50%        2.000000  \n",
       "75%        2.100000  \n",
       "max        6.200000  "
      ]
     },
     "execution_count": 172,
     "metadata": {},
     "output_type": "execute_result"
    }
   ],
   "source": [
    "data.describe()"
   ]
  },
  {
   "cell_type": "code",
   "execution_count": 173,
   "metadata": {},
   "outputs": [
    {
     "data": {
      "text/plain": [
       "year\n",
       "1970    24999.000000\n",
       "1997     9995.000000\n",
       "1998     8605.000000\n",
       "1999     5995.000000\n",
       "2000     5743.333333\n",
       "2001     4957.900000\n",
       "2002     5820.444444\n",
       "2003     4878.000000\n",
       "2004     4727.615385\n",
       "2005     4426.111111\n",
       "2006     4036.875000\n",
       "2007     5136.045455\n",
       "2008     6967.437500\n",
       "2009     6166.764706\n",
       "2010     8308.473684\n",
       "2011    12624.894737\n",
       "2012    10845.140351\n",
       "2013    11939.842466\n",
       "2014    14042.936864\n",
       "2015    16731.780020\n",
       "2016    19307.892948\n",
       "2017    21514.307854\n",
       "2018    25720.162918\n",
       "2019    31290.020865\n",
       "2020    35433.282337\n",
       "Name: price, dtype: float64"
      ]
     },
     "execution_count": 173,
     "metadata": {},
     "output_type": "execute_result"
    }
   ],
   "source": [
    "data.groupby(\"year\").mean()[\"price\"]"
   ]
  },
  {
   "cell_type": "code",
   "execution_count": 174,
   "metadata": {},
   "outputs": [
    {
     "data": {
      "text/plain": [
       "year\n",
       "1970    24999.000000\n",
       "1997     9995.000000\n",
       "1998     8605.000000\n",
       "1999     5995.000000\n",
       "2000     5743.333333\n",
       "2001     4957.900000\n",
       "2002     5820.444444\n",
       "2003     4878.000000\n",
       "2004     4727.615385\n",
       "2005     4426.111111\n",
       "2006     4036.875000\n",
       "2007     5136.045455\n",
       "2008     6967.437500\n",
       "2009     6166.764706\n",
       "2010     8308.473684\n",
       "2011     8913.459459\n",
       "2012    10845.140351\n",
       "2013    11939.842466\n",
       "2014    14042.936864\n",
       "2015    16647.822222\n",
       "2016    19223.558943\n",
       "2017    21356.280421\n",
       "2018    24800.844506\n",
       "2019    30289.524832\n",
       "2020    34234.794872\n",
       "Name: price, dtype: float64"
      ]
     },
     "execution_count": 174,
     "metadata": {},
     "output_type": "execute_result"
    }
   ],
   "source": [
    "yuzde99DF.groupby(\"year\").mean()[\"price\"]"
   ]
  },
  {
   "cell_type": "code",
   "execution_count": 175,
   "metadata": {},
   "outputs": [
    {
     "data": {
      "text/plain": [
       "year\n",
       "1997     9995.000000\n",
       "1998     8605.000000\n",
       "1999     5995.000000\n",
       "2000     5743.333333\n",
       "2001     4957.900000\n",
       "2002     5820.444444\n",
       "2003     4878.000000\n",
       "2004     4727.615385\n",
       "2005     4426.111111\n",
       "2006     4036.875000\n",
       "2007     5136.045455\n",
       "2008     6967.437500\n",
       "2009     6166.764706\n",
       "2010     8308.473684\n",
       "2011    12624.894737\n",
       "2012    10845.140351\n",
       "2013    11939.842466\n",
       "2014    14042.936864\n",
       "2015    16731.780020\n",
       "2016    19307.892948\n",
       "2017    21514.307854\n",
       "2018    25720.162918\n",
       "2019    31290.020865\n",
       "2020    35433.282337\n",
       "Name: price, dtype: float64"
      ]
     },
     "execution_count": 175,
     "metadata": {},
     "output_type": "execute_result"
    }
   ],
   "source": [
    "data[data[\"year\"] != 1970].groupby(\"year\").mean()[\"price\"]"
   ]
  },
  {
   "cell_type": "code",
   "execution_count": 176,
   "metadata": {},
   "outputs": [],
   "source": [
    "data = yuzde99DF"
   ]
  },
  {
   "cell_type": "code",
   "execution_count": 177,
   "metadata": {},
   "outputs": [
    {
     "data": {
      "text/html": [
       "<div>\n",
       "<style scoped>\n",
       "    .dataframe tbody tr th:only-of-type {\n",
       "        vertical-align: middle;\n",
       "    }\n",
       "\n",
       "    .dataframe tbody tr th {\n",
       "        vertical-align: top;\n",
       "    }\n",
       "\n",
       "    .dataframe thead th {\n",
       "        text-align: right;\n",
       "    }\n",
       "</style>\n",
       "<table border=\"1\" class=\"dataframe\">\n",
       "  <thead>\n",
       "    <tr style=\"text-align: right;\">\n",
       "      <th></th>\n",
       "      <th>year</th>\n",
       "      <th>price</th>\n",
       "      <th>mileage</th>\n",
       "      <th>tax</th>\n",
       "      <th>mpg</th>\n",
       "      <th>engineSize</th>\n",
       "    </tr>\n",
       "  </thead>\n",
       "  <tbody>\n",
       "    <tr>\n",
       "      <th>count</th>\n",
       "      <td>12988.000000</td>\n",
       "      <td>12988.000000</td>\n",
       "      <td>12988.000000</td>\n",
       "      <td>12988.000000</td>\n",
       "      <td>12988.000000</td>\n",
       "      <td>12988.000000</td>\n",
       "    </tr>\n",
       "    <tr>\n",
       "      <th>mean</th>\n",
       "      <td>2017.281876</td>\n",
       "      <td>24074.926933</td>\n",
       "      <td>22132.741146</td>\n",
       "      <td>129.689714</td>\n",
       "      <td>55.437142</td>\n",
       "      <td>2.050901</td>\n",
       "    </tr>\n",
       "    <tr>\n",
       "      <th>std</th>\n",
       "      <td>2.228515</td>\n",
       "      <td>9866.224575</td>\n",
       "      <td>21196.776401</td>\n",
       "      <td>65.183076</td>\n",
       "      <td>15.025999</td>\n",
       "      <td>0.532596</td>\n",
       "    </tr>\n",
       "    <tr>\n",
       "      <th>min</th>\n",
       "      <td>1970.000000</td>\n",
       "      <td>650.000000</td>\n",
       "      <td>1.000000</td>\n",
       "      <td>0.000000</td>\n",
       "      <td>1.100000</td>\n",
       "      <td>0.000000</td>\n",
       "    </tr>\n",
       "    <tr>\n",
       "      <th>25%</th>\n",
       "      <td>2016.000000</td>\n",
       "      <td>17357.500000</td>\n",
       "      <td>6322.000000</td>\n",
       "      <td>125.000000</td>\n",
       "      <td>45.600000</td>\n",
       "      <td>1.675000</td>\n",
       "    </tr>\n",
       "    <tr>\n",
       "      <th>50%</th>\n",
       "      <td>2018.000000</td>\n",
       "      <td>22299.000000</td>\n",
       "      <td>15369.500000</td>\n",
       "      <td>145.000000</td>\n",
       "      <td>56.500000</td>\n",
       "      <td>2.000000</td>\n",
       "    </tr>\n",
       "    <tr>\n",
       "      <th>75%</th>\n",
       "      <td>2019.000000</td>\n",
       "      <td>28706.000000</td>\n",
       "      <td>31982.250000</td>\n",
       "      <td>145.000000</td>\n",
       "      <td>64.200000</td>\n",
       "      <td>2.100000</td>\n",
       "    </tr>\n",
       "    <tr>\n",
       "      <th>max</th>\n",
       "      <td>2020.000000</td>\n",
       "      <td>65990.000000</td>\n",
       "      <td>259000.000000</td>\n",
       "      <td>580.000000</td>\n",
       "      <td>217.300000</td>\n",
       "      <td>6.200000</td>\n",
       "    </tr>\n",
       "  </tbody>\n",
       "</table>\n",
       "</div>"
      ],
      "text/plain": [
       "               year         price        mileage           tax           mpg  \\\n",
       "count  12988.000000  12988.000000   12988.000000  12988.000000  12988.000000   \n",
       "mean    2017.281876  24074.926933   22132.741146    129.689714     55.437142   \n",
       "std        2.228515   9866.224575   21196.776401     65.183076     15.025999   \n",
       "min     1970.000000    650.000000       1.000000      0.000000      1.100000   \n",
       "25%     2016.000000  17357.500000    6322.000000    125.000000     45.600000   \n",
       "50%     2018.000000  22299.000000   15369.500000    145.000000     56.500000   \n",
       "75%     2019.000000  28706.000000   31982.250000    145.000000     64.200000   \n",
       "max     2020.000000  65990.000000  259000.000000    580.000000    217.300000   \n",
       "\n",
       "         engineSize  \n",
       "count  12988.000000  \n",
       "mean       2.050901  \n",
       "std        0.532596  \n",
       "min        0.000000  \n",
       "25%        1.675000  \n",
       "50%        2.000000  \n",
       "75%        2.100000  \n",
       "max        6.200000  "
      ]
     },
     "execution_count": 177,
     "metadata": {},
     "output_type": "execute_result"
    }
   ],
   "source": [
    "data.describe()"
   ]
  },
  {
   "cell_type": "code",
   "execution_count": 178,
   "metadata": {},
   "outputs": [],
   "source": [
    "data = data[data.year != 1970]"
   ]
  },
  {
   "cell_type": "code",
   "execution_count": 179,
   "metadata": {},
   "outputs": [
    {
     "data": {
      "text/plain": [
       "year\n",
       "1997     9995.000000\n",
       "1998     8605.000000\n",
       "1999     5995.000000\n",
       "2000     5743.333333\n",
       "2001     4957.900000\n",
       "2002     5820.444444\n",
       "2003     4878.000000\n",
       "2004     4727.615385\n",
       "2005     4426.111111\n",
       "2006     4036.875000\n",
       "2007     5136.045455\n",
       "2008     6967.437500\n",
       "2009     6166.764706\n",
       "2010     8308.473684\n",
       "2011     8913.459459\n",
       "2012    10845.140351\n",
       "2013    11939.842466\n",
       "2014    14042.936864\n",
       "2015    16647.822222\n",
       "2016    19223.558943\n",
       "2017    21356.280421\n",
       "2018    24800.844506\n",
       "2019    30289.524832\n",
       "2020    34234.794872\n",
       "Name: price, dtype: float64"
      ]
     },
     "execution_count": 179,
     "metadata": {},
     "output_type": "execute_result"
    }
   ],
   "source": [
    "data.groupby(\"year\").mean()[\"price\"]"
   ]
  },
  {
   "cell_type": "code",
   "execution_count": 180,
   "metadata": {},
   "outputs": [
    {
     "data": {
      "text/html": [
       "<div>\n",
       "<style scoped>\n",
       "    .dataframe tbody tr th:only-of-type {\n",
       "        vertical-align: middle;\n",
       "    }\n",
       "\n",
       "    .dataframe tbody tr th {\n",
       "        vertical-align: top;\n",
       "    }\n",
       "\n",
       "    .dataframe thead th {\n",
       "        text-align: right;\n",
       "    }\n",
       "</style>\n",
       "<table border=\"1\" class=\"dataframe\">\n",
       "  <thead>\n",
       "    <tr style=\"text-align: right;\">\n",
       "      <th></th>\n",
       "      <th>year</th>\n",
       "      <th>price</th>\n",
       "      <th>transmission</th>\n",
       "      <th>mileage</th>\n",
       "      <th>tax</th>\n",
       "      <th>mpg</th>\n",
       "      <th>engineSize</th>\n",
       "    </tr>\n",
       "  </thead>\n",
       "  <tbody>\n",
       "    <tr>\n",
       "      <th>6177</th>\n",
       "      <td>2019</td>\n",
       "      <td>65990</td>\n",
       "      <td>Semi-Auto</td>\n",
       "      <td>5076</td>\n",
       "      <td>150</td>\n",
       "      <td>30.4</td>\n",
       "      <td>3.0</td>\n",
       "    </tr>\n",
       "    <tr>\n",
       "      <th>5779</th>\n",
       "      <td>2020</td>\n",
       "      <td>65990</td>\n",
       "      <td>Semi-Auto</td>\n",
       "      <td>999</td>\n",
       "      <td>145</td>\n",
       "      <td>28.0</td>\n",
       "      <td>4.0</td>\n",
       "    </tr>\n",
       "    <tr>\n",
       "      <th>3191</th>\n",
       "      <td>2020</td>\n",
       "      <td>65980</td>\n",
       "      <td>Semi-Auto</td>\n",
       "      <td>3999</td>\n",
       "      <td>145</td>\n",
       "      <td>28.0</td>\n",
       "      <td>4.0</td>\n",
       "    </tr>\n",
       "    <tr>\n",
       "      <th>4727</th>\n",
       "      <td>2019</td>\n",
       "      <td>65000</td>\n",
       "      <td>Semi-Auto</td>\n",
       "      <td>3398</td>\n",
       "      <td>145</td>\n",
       "      <td>27.2</td>\n",
       "      <td>4.0</td>\n",
       "    </tr>\n",
       "    <tr>\n",
       "      <th>8814</th>\n",
       "      <td>2019</td>\n",
       "      <td>64999</td>\n",
       "      <td>Semi-Auto</td>\n",
       "      <td>119</td>\n",
       "      <td>145</td>\n",
       "      <td>40.9</td>\n",
       "      <td>3.0</td>\n",
       "    </tr>\n",
       "  </tbody>\n",
       "</table>\n",
       "</div>"
      ],
      "text/plain": [
       "      year  price transmission  mileage  tax   mpg  engineSize\n",
       "6177  2019  65990    Semi-Auto     5076  150  30.4         3.0\n",
       "5779  2020  65990    Semi-Auto      999  145  28.0         4.0\n",
       "3191  2020  65980    Semi-Auto     3999  145  28.0         4.0\n",
       "4727  2019  65000    Semi-Auto     3398  145  27.2         4.0\n",
       "8814  2019  64999    Semi-Auto      119  145  40.9         3.0"
      ]
     },
     "execution_count": 180,
     "metadata": {},
     "output_type": "execute_result"
    }
   ],
   "source": [
    "data.head()"
   ]
  },
  {
   "cell_type": "code",
   "execution_count": 181,
   "metadata": {},
   "outputs": [],
   "source": [
    "data = data.drop(\"transmission\", axis=1)"
   ]
  },
  {
   "cell_type": "code",
   "execution_count": 182,
   "metadata": {},
   "outputs": [
    {
     "data": {
      "text/html": [
       "<div>\n",
       "<style scoped>\n",
       "    .dataframe tbody tr th:only-of-type {\n",
       "        vertical-align: middle;\n",
       "    }\n",
       "\n",
       "    .dataframe tbody tr th {\n",
       "        vertical-align: top;\n",
       "    }\n",
       "\n",
       "    .dataframe thead th {\n",
       "        text-align: right;\n",
       "    }\n",
       "</style>\n",
       "<table border=\"1\" class=\"dataframe\">\n",
       "  <thead>\n",
       "    <tr style=\"text-align: right;\">\n",
       "      <th></th>\n",
       "      <th>year</th>\n",
       "      <th>price</th>\n",
       "      <th>mileage</th>\n",
       "      <th>tax</th>\n",
       "      <th>mpg</th>\n",
       "      <th>engineSize</th>\n",
       "    </tr>\n",
       "  </thead>\n",
       "  <tbody>\n",
       "    <tr>\n",
       "      <th>6177</th>\n",
       "      <td>2019</td>\n",
       "      <td>65990</td>\n",
       "      <td>5076</td>\n",
       "      <td>150</td>\n",
       "      <td>30.4</td>\n",
       "      <td>3.0</td>\n",
       "    </tr>\n",
       "    <tr>\n",
       "      <th>5779</th>\n",
       "      <td>2020</td>\n",
       "      <td>65990</td>\n",
       "      <td>999</td>\n",
       "      <td>145</td>\n",
       "      <td>28.0</td>\n",
       "      <td>4.0</td>\n",
       "    </tr>\n",
       "    <tr>\n",
       "      <th>3191</th>\n",
       "      <td>2020</td>\n",
       "      <td>65980</td>\n",
       "      <td>3999</td>\n",
       "      <td>145</td>\n",
       "      <td>28.0</td>\n",
       "      <td>4.0</td>\n",
       "    </tr>\n",
       "    <tr>\n",
       "      <th>4727</th>\n",
       "      <td>2019</td>\n",
       "      <td>65000</td>\n",
       "      <td>3398</td>\n",
       "      <td>145</td>\n",
       "      <td>27.2</td>\n",
       "      <td>4.0</td>\n",
       "    </tr>\n",
       "    <tr>\n",
       "      <th>8814</th>\n",
       "      <td>2019</td>\n",
       "      <td>64999</td>\n",
       "      <td>119</td>\n",
       "      <td>145</td>\n",
       "      <td>40.9</td>\n",
       "      <td>3.0</td>\n",
       "    </tr>\n",
       "  </tbody>\n",
       "</table>\n",
       "</div>"
      ],
      "text/plain": [
       "      year  price  mileage  tax   mpg  engineSize\n",
       "6177  2019  65990     5076  150  30.4         3.0\n",
       "5779  2020  65990      999  145  28.0         4.0\n",
       "3191  2020  65980     3999  145  28.0         4.0\n",
       "4727  2019  65000     3398  145  27.2         4.0\n",
       "8814  2019  64999      119  145  40.9         3.0"
      ]
     },
     "execution_count": 182,
     "metadata": {},
     "output_type": "execute_result"
    }
   ],
   "source": [
    "data.head()"
   ]
  },
  {
   "cell_type": "code",
   "execution_count": 183,
   "metadata": {},
   "outputs": [],
   "source": [
    "y = data[\"price\"].values\n",
    "x = data.drop([\"price\"], axis=1).values"
   ]
  },
  {
   "cell_type": "code",
   "execution_count": 184,
   "metadata": {},
   "outputs": [
    {
     "data": {
      "text/plain": [
       "array([65990, 65990, 65980, ...,  1490,  1350,   650], dtype=int64)"
      ]
     },
     "execution_count": 184,
     "metadata": {},
     "output_type": "execute_result"
    }
   ],
   "source": [
    "y"
   ]
  },
  {
   "cell_type": "code",
   "execution_count": 185,
   "metadata": {},
   "outputs": [
    {
     "data": {
      "text/plain": [
       "array([[2.01900e+03, 5.07600e+03, 1.50000e+02, 3.04000e+01, 3.00000e+00],\n",
       "       [2.02000e+03, 9.99000e+02, 1.45000e+02, 2.80000e+01, 4.00000e+00],\n",
       "       [2.02000e+03, 3.99900e+03, 1.45000e+02, 2.80000e+01, 4.00000e+00],\n",
       "       ...,\n",
       "       [2.00000e+03, 8.70000e+04, 2.65000e+02, 2.72000e+01, 3.20000e+00],\n",
       "       [2.01000e+03, 1.16126e+05, 1.45000e+02, 5.43000e+01, 2.00000e+00],\n",
       "       [2.00300e+03, 1.09090e+05, 2.35000e+02, 4.00000e+01, 1.40000e+00]])"
      ]
     },
     "execution_count": 185,
     "metadata": {},
     "output_type": "execute_result"
    }
   ],
   "source": [
    "x"
   ]
  },
  {
   "cell_type": "code",
   "execution_count": 186,
   "metadata": {},
   "outputs": [],
   "source": [
    "from sklearn.model_selection import train_test_split"
   ]
  },
  {
   "cell_type": "code",
   "execution_count": 187,
   "metadata": {},
   "outputs": [],
   "source": [
    "X_train, X_test, y_train, y_test = train_test_split(x, y, test_size=0.3, random_state=42)"
   ]
  },
  {
   "cell_type": "code",
   "execution_count": 188,
   "metadata": {},
   "outputs": [
    {
     "data": {
      "text/plain": [
       "9090"
      ]
     },
     "execution_count": 188,
     "metadata": {},
     "output_type": "execute_result"
    }
   ],
   "source": [
    "len(X_train)"
   ]
  },
  {
   "cell_type": "code",
   "execution_count": 189,
   "metadata": {},
   "outputs": [
    {
     "data": {
      "text/plain": [
       "3897"
      ]
     },
     "execution_count": 189,
     "metadata": {},
     "output_type": "execute_result"
    }
   ],
   "source": [
    "len(X_test)"
   ]
  },
  {
   "cell_type": "code",
   "execution_count": 190,
   "metadata": {},
   "outputs": [],
   "source": [
    "from sklearn.preprocessing import MinMaxScaler"
   ]
  },
  {
   "cell_type": "code",
   "execution_count": 191,
   "metadata": {},
   "outputs": [],
   "source": [
    "scaler = MinMaxScaler()"
   ]
  },
  {
   "cell_type": "code",
   "execution_count": 192,
   "metadata": {},
   "outputs": [],
   "source": [
    "X_train = scaler.fit_transform(X_train)"
   ]
  },
  {
   "cell_type": "code",
   "execution_count": 193,
   "metadata": {},
   "outputs": [],
   "source": [
    "X_test = scaler.fit_transform(X_test)"
   ]
  },
  {
   "cell_type": "code",
   "execution_count": 194,
   "metadata": {},
   "outputs": [],
   "source": [
    "from tensorflow.keras.models import Sequential\n",
    "from tensorflow.keras.layers import Dense"
   ]
  },
  {
   "cell_type": "code",
   "execution_count": 195,
   "metadata": {},
   "outputs": [
    {
     "data": {
      "text/plain": [
       "(9090, 5)"
      ]
     },
     "execution_count": 195,
     "metadata": {},
     "output_type": "execute_result"
    }
   ],
   "source": [
    "X_train.shape"
   ]
  },
  {
   "cell_type": "code",
   "execution_count": 196,
   "metadata": {},
   "outputs": [],
   "source": [
    "model = Sequential()\n",
    "\n",
    "model.add(Dense(12, activation=\"relu\"))\n",
    "model.add(Dense(12, activation=\"relu\"))\n",
    "model.add(Dense(12, activation=\"relu\"))\n",
    "model.add(Dense(12, activation=\"relu\"))\n",
    "\n",
    "model.add(Dense(1))\n",
    "\n",
    "model.compile(optimizer=\"adam\", loss=\"mse\")"
   ]
  },
  {
   "cell_type": "code",
   "execution_count": 197,
   "metadata": {},
   "outputs": [
    {
     "name": "stdout",
     "output_type": "stream",
     "text": [
      "Train on 9090 samples, validate on 3897 samples\n",
      "Epoch 1/300\n",
      "9090/9090 [==============================] - 2s 175us/sample - loss: 674367276.2156 - val_loss: 682856015.9630\n",
      "Epoch 2/300\n",
      "9090/9090 [==============================] - 0s 22us/sample - loss: 674285962.5611 - val_loss: 682717546.6502\n",
      "Epoch 3/300\n",
      "9090/9090 [==============================] - 0s 24us/sample - loss: 674041881.9098 - val_loss: 682305906.9766\n",
      "Epoch 4/300\n",
      "9090/9090 [==============================] - 0s 21us/sample - loss: 673319732.2420 - val_loss: 681099646.4562\n",
      "Epoch 5/300\n",
      "9090/9090 [==============================] - 0s 22us/sample - loss: 671325570.3938 - val_loss: 677943230.7683\n",
      "Epoch 6/300\n",
      "9090/9090 [==============================] - 0s 22us/sample - loss: 666483694.2574 - val_loss: 670771846.0929\n",
      "Epoch 7/300\n",
      "9090/9090 [==============================] - 0s 24us/sample - loss: 656227560.4136 - val_loss: 656357001.2297\n",
      "Epoch 8/300\n",
      "9090/9090 [==============================] - 0s 21us/sample - loss: 636795139.3091 - val_loss: 630432250.1042\n",
      "Epoch 9/300\n",
      "9090/9090 [==============================] - 0s 21us/sample - loss: 603523344.6513 - val_loss: 588085883.1470\n",
      "Epoch 10/300\n",
      "9090/9090 [==============================] - 0s 22us/sample - loss: 551771350.7767 - val_loss: 525187986.4101\n",
      "Epoch 11/300\n",
      "9090/9090 [==============================] - 0s 22us/sample - loss: 478966053.2805 - val_loss: 440889586.4840\n",
      "Epoch 12/300\n",
      "9090/9090 [==============================] - 0s 23us/sample - loss: 387115631.8416 - val_loss: 341173795.6295\n",
      "Epoch 13/300\n",
      "9090/9090 [==============================] - 0s 21us/sample - loss: 286479226.5259 - val_loss: 240691781.8671\n",
      "Epoch 14/300\n",
      "9090/9090 [==============================] - 0s 21us/sample - loss: 194776002.2002 - val_loss: 160068434.6338\n",
      "Epoch 15/300\n",
      "9090/9090 [==============================] - 0s 20us/sample - loss: 130626223.7624 - val_loss: 112546993.0757\n",
      "Epoch 16/300\n",
      "9090/9090 [==============================] - 0s 22us/sample - loss: 99487403.4675 - val_loss: 93928210.8145\n",
      "Epoch 17/300\n",
      "9090/9090 [==============================] - 0s 23us/sample - loss: 89504522.0946 - val_loss: 88978388.2227\n",
      "Epoch 18/300\n",
      "9090/9090 [==============================] - 0s 20us/sample - loss: 87089494.0110 - val_loss: 87577683.6130\n",
      "Epoch 19/300\n",
      "9090/9090 [==============================] - 0s 24us/sample - loss: 86276309.8130 - val_loss: 86768524.2433\n",
      "Epoch 20/300\n",
      "9090/9090 [==============================] - 0s 20us/sample - loss: 85644582.9175 - val_loss: 86150875.0957\n",
      "Epoch 21/300\n",
      "9090/9090 [==============================] - 0s 22us/sample - loss: 85066713.1529 - val_loss: 85577730.4819\n",
      "Epoch 22/300\n",
      "9090/9090 [==============================] - 0s 20us/sample - loss: 84509873.6546 - val_loss: 85007439.0146\n",
      "Epoch 23/300\n",
      "9090/9090 [==============================] - 0s 24us/sample - loss: 83975938.8779 - val_loss: 84446099.2271\n",
      "Epoch 24/300\n",
      "9090/9090 [==============================] - 0s 20us/sample - loss: 83454998.2442 - val_loss: 83925508.1735\n",
      "Epoch 25/300\n",
      "9090/9090 [==============================] - 0s 24us/sample - loss: 82946754.4290 - val_loss: 83396446.2551\n",
      "Epoch 26/300\n",
      "9090/9090 [==============================] - 0s 20us/sample - loss: 82443511.2299 - val_loss: 82894985.7942\n",
      "Epoch 27/300\n",
      "9090/9090 [==============================] - 0s 23us/sample - loss: 81944518.3366 - val_loss: 82389521.7213\n",
      "Epoch 28/300\n",
      "9090/9090 [==============================] - 0s 22us/sample - loss: 81462568.6997 - val_loss: 81898085.4575\n",
      "Epoch 29/300\n",
      "9090/9090 [==============================] - 0s 21us/sample - loss: 80974044.7877 - val_loss: 81421170.8217\n",
      "Epoch 30/300\n",
      "9090/9090 [==============================] - 0s 22us/sample - loss: 80488068.0440 - val_loss: 80914148.9392\n",
      "Epoch 31/300\n",
      "9090/9090 [==============================] - 0s 24us/sample - loss: 80025240.3036 - val_loss: 80478675.8081\n",
      "Epoch 32/300\n",
      "9090/9090 [==============================] - 0s 21us/sample - loss: 79544589.5490 - val_loss: 79986515.0064\n",
      "Epoch 33/300\n",
      "9090/9090 [==============================] - 0s 24us/sample - loss: 79073578.8735 - val_loss: 79525828.7503\n",
      "Epoch 34/300\n",
      "9090/9090 [==============================] - 0s 23us/sample - loss: 78603820.8405 - val_loss: 79050679.7321\n",
      "Epoch 35/300\n",
      "9090/9090 [==============================] - 0s 21us/sample - loss: 78137753.9758 - val_loss: 78567177.4411\n",
      "Epoch 36/300\n",
      "9090/9090 [==============================] - 0s 23us/sample - loss: 77658690.6975 - val_loss: 78090189.1455\n",
      "Epoch 37/300\n",
      "9090/9090 [==============================] - 0s 20us/sample - loss: 77191951.6964 - val_loss: 77614307.5689\n",
      "Epoch 38/300\n",
      "9090/9090 [==============================] - 0s 24us/sample - loss: 76728605.5314 - val_loss: 77122233.3877\n",
      "Epoch 39/300\n",
      "9090/9090 [==============================] - 0s 25us/sample - loss: 76250730.8691 - val_loss: 76701284.5450\n",
      "Epoch 40/300\n",
      "9090/9090 [==============================] - 0s 26us/sample - loss: 75781596.3344 - val_loss: 76191630.5958\n",
      "Epoch 41/300\n",
      "9090/9090 [==============================] - 0s 24us/sample - loss: 75315702.5787 - val_loss: 75746975.4950\n",
      "Epoch 42/300\n",
      "9090/9090 [==============================] - 0s 22us/sample - loss: 74840981.6150 - val_loss: 75280725.3990\n",
      "Epoch 43/300\n",
      "9090/9090 [==============================] - 0s 29us/sample - loss: 74375694.8427 - val_loss: 74782372.6271\n",
      "Epoch 44/300\n",
      "9090/9090 [==============================] - 0s 28us/sample - loss: 73899641.4697 - val_loss: 74338065.2502\n",
      "Epoch 45/300\n",
      "9090/9090 [==============================] - 0s 23us/sample - loss: 73424311.6700 - val_loss: 73843787.2989\n",
      "Epoch 46/300\n",
      "9090/9090 [==============================] - 0s 25us/sample - loss: 72953441.2321 - val_loss: 73361235.6346\n",
      "Epoch 47/300\n",
      "9090/9090 [==============================] - 0s 22us/sample - loss: 72465794.1122 - val_loss: 72916393.4442\n",
      "Epoch 48/300\n",
      "9090/9090 [==============================] - 0s 24us/sample - loss: 71999965.2145 - val_loss: 72409569.2266\n",
      "Epoch 49/300\n",
      "9090/9090 [==============================] - 0s 23us/sample - loss: 71509123.7008 - val_loss: 71959546.1914\n",
      "Epoch 50/300\n",
      "9090/9090 [==============================] - 0s 20us/sample - loss: 71020045.5314 - val_loss: 71454953.4072\n",
      "Epoch 51/300\n",
      "9090/9090 [==============================] - 0s 25us/sample - loss: 70531963.2959 - val_loss: 70990716.1570\n",
      "Epoch 52/300\n",
      "9090/9090 [==============================] - 0s 25us/sample - loss: 70042810.0594 - val_loss: 70544026.3341\n",
      "Epoch 53/300\n",
      "9090/9090 [==============================] - 0s 25us/sample - loss: 69546622.0814 - val_loss: 70004805.6207\n",
      "Epoch 54/300\n",
      "9090/9090 [==============================] - 0s 22us/sample - loss: 69043896.6689 - val_loss: 69528003.5022\n",
      "Epoch 55/300\n",
      "9090/9090 [==============================] - 0s 21us/sample - loss: 68546988.0264 - val_loss: 69012002.4963\n",
      "Epoch 56/300\n",
      "9090/9090 [==============================] - 0s 26us/sample - loss: 68039742.4158 - val_loss: 68480862.2448\n",
      "Epoch 57/300\n",
      "9090/9090 [==============================] - 0s 25us/sample - loss: 67533696.4092 - val_loss: 68012880.1868\n",
      "Epoch 58/300\n",
      "9090/9090 [==============================] - 0s 25us/sample - loss: 67014269.8042 - val_loss: 67442187.9579\n",
      "Epoch 59/300\n",
      "9090/9090 [==============================] - 0s 22us/sample - loss: 66489431.9868 - val_loss: 66924731.2907\n",
      "Epoch 60/300\n",
      "9090/9090 [==============================] - 0s 22us/sample - loss: 65966954.8911 - val_loss: 66432133.3959\n",
      "Epoch 61/300\n",
      "9090/9090 [==============================] - 0s 22us/sample - loss: 65424345.6678 - val_loss: 66000383.2445\n",
      "Epoch 62/300\n",
      "9090/9090 [==============================] - 0s 26us/sample - loss: 64883661.6370 - val_loss: 65392093.7111\n",
      "Epoch 63/300\n",
      "9090/9090 [==============================] - 0s 25us/sample - loss: 64337077.2145 - val_loss: 64902883.6171\n",
      "Epoch 64/300\n",
      "9090/9090 [==============================] - 0s 29us/sample - loss: 63788069.6722 - val_loss: 64320825.0860\n",
      "Epoch 65/300\n",
      "9090/9090 [==============================] - 0s 29us/sample - loss: 63234878.3630 - val_loss: 63817121.3569\n",
      "Epoch 66/300\n",
      "9090/9090 [==============================] - 0s 28us/sample - loss: 62660049.1529 - val_loss: 63249420.2125\n",
      "Epoch 67/300\n",
      "9090/9090 [==============================] - 0s 28us/sample - loss: 62074488.8229 - val_loss: 62612970.9777\n",
      "Epoch 68/300\n"
     ]
    },
    {
     "name": "stdout",
     "output_type": "stream",
     "text": [
      "9090/9090 [==============================] - 0s 29us/sample - loss: 61494243.8944 - val_loss: 62070086.3279\n",
      "Epoch 69/300\n",
      "9090/9090 [==============================] - 0s 30us/sample - loss: 60902901.8174 - val_loss: 61492061.2471\n",
      "Epoch 70/300\n",
      "9090/9090 [==============================] - 0s 28us/sample - loss: 60305881.9318 - val_loss: 60893777.1280\n",
      "Epoch 71/300\n",
      "9090/9090 [==============================] - 0s 28us/sample - loss: 59700341.2805 - val_loss: 60325318.1391\n",
      "Epoch 72/300\n",
      "9090/9090 [==============================] - 0s 26us/sample - loss: 59078597.8042 - val_loss: 59707337.8496\n",
      "Epoch 73/300\n",
      "9090/9090 [==============================] - 0s 27us/sample - loss: 58458216.7481 - val_loss: 59096849.5355\n",
      "Epoch 74/300\n",
      "9090/9090 [==============================] - 0s 30us/sample - loss: 57813562.3410 - val_loss: 58420410.0210\n",
      "Epoch 75/300\n",
      "9090/9090 [==============================] - 0s 27us/sample - loss: 57172144.1276 - val_loss: 57815341.8024\n",
      "Epoch 76/300\n",
      "9090/9090 [==============================] - 0s 29us/sample - loss: 56514465.8042 - val_loss: 57184730.6554\n",
      "Epoch 77/300\n",
      "9090/9090 [==============================] - 0s 28us/sample - loss: 55840195.4191 - val_loss: 56562173.0223\n",
      "Epoch 78/300\n",
      "9090/9090 [==============================] - ETA: 0s - loss: 54764399.29 - 0s 26us/sample - loss: 55171617.8790 - val_loss: 55839905.9317\n",
      "Epoch 79/300\n",
      "9090/9090 [==============================] - 0s 25us/sample - loss: 54479281.5226 - val_loss: 55152115.9713\n",
      "Epoch 80/300\n",
      "9090/9090 [==============================] - 0s 22us/sample - loss: 53763504.0990 - val_loss: 54515692.8643\n",
      "Epoch 81/300\n",
      "9090/9090 [==============================] - 0s 20us/sample - loss: 53047563.6392 - val_loss: 53830983.5976\n",
      "Epoch 82/300\n",
      "9090/9090 [==============================] - 0s 25us/sample - loss: 52322168.4840 - val_loss: 53087148.6107\n",
      "Epoch 83/300\n",
      "9090/9090 [==============================] - 0s 21us/sample - loss: 51574189.3905 - val_loss: 52445328.9156\n",
      "Epoch 84/300\n",
      "9090/9090 [==============================] - 0s 24us/sample - loss: 50837103.0803 - val_loss: 51579224.1971\n",
      "Epoch 85/300\n",
      "9090/9090 [==============================] - 0s 21us/sample - loss: 50078694.3718 - val_loss: 51008978.2787\n",
      "Epoch 86/300\n",
      "9090/9090 [==============================] - 0s 23us/sample - loss: 49294827.4191 - val_loss: 50143236.2628\n",
      "Epoch 87/300\n",
      "9090/9090 [==============================] - 0s 20us/sample - loss: 48501356.1100 - val_loss: 49438313.5899\n",
      "Epoch 88/300\n",
      "9090/9090 [==============================] - 0s 20us/sample - loss: 47705802.5743 - val_loss: 48663545.8414\n",
      "Epoch 89/300\n",
      "9090/9090 [==============================] - 0s 22us/sample - loss: 46904388.0572 - val_loss: 47920290.7457\n",
      "Epoch 90/300\n",
      "9090/9090 [==============================] - 0s 21us/sample - loss: 46111174.6843 - val_loss: 47286962.9541\n",
      "Epoch 91/300\n",
      "9090/9090 [==============================] - 0s 22us/sample - loss: 45288238.5743 - val_loss: 46394158.6010\n",
      "Epoch 92/300\n",
      "9090/9090 [==============================] - 0s 21us/sample - loss: 44454670.5347 - val_loss: 45664784.8099\n",
      "Epoch 93/300\n",
      "9090/9090 [==============================] - 0s 22us/sample - loss: 43645285.8350 - val_loss: 44840745.7490\n",
      "Epoch 94/300\n",
      "9090/9090 [==============================] - 0s 23us/sample - loss: 42817070.7591 - val_loss: 44166111.5150\n",
      "Epoch 95/300\n",
      "9090/9090 [==============================] - 0s 21us/sample - loss: 42011172.8383 - val_loss: 43237475.1091\n",
      "Epoch 96/300\n",
      "9090/9090 [==============================] - 0s 21us/sample - loss: 41213464.7349 - val_loss: 42485294.1067\n",
      "Epoch 97/300\n",
      "9090/9090 [==============================] - 0s 23us/sample - loss: 40406539.5666 - val_loss: 41955404.6697\n",
      "Epoch 98/300\n",
      "9090/9090 [==============================] - 0s 20us/sample - loss: 39623929.7382 - val_loss: 41108790.0436\n",
      "Epoch 99/300\n",
      "9090/9090 [==============================] - 0s 24us/sample - loss: 38873705.5886 - val_loss: 40465170.5045\n",
      "Epoch 100/300\n",
      "9090/9090 [==============================] - 0s 22us/sample - loss: 38123248.8999 - val_loss: 39759964.4706\n",
      "Epoch 101/300\n",
      "9090/9090 [==============================] - 0s 22us/sample - loss: 37405033.7008 - val_loss: 39099760.9243\n",
      "Epoch 102/300\n",
      "9090/9090 [==============================] - 0s 22us/sample - loss: 36697683.8592 - val_loss: 38505992.7247\n",
      "Epoch 103/300\n",
      "9090/9090 [==============================] - 0s 24us/sample - loss: 36028013.2035 - val_loss: 38131317.0167\n",
      "Epoch 104/300\n",
      "9090/9090 [==============================] - 0s 20us/sample - loss: 35372966.1320 - val_loss: 37489716.7734\n",
      "Epoch 105/300\n",
      "9090/9090 [==============================] - 0s 26us/sample - loss: 34743960.6733 - val_loss: 36905917.4231\n",
      "Epoch 106/300\n",
      "9090/9090 [==============================] - 0s 21us/sample - loss: 34159463.5292 - val_loss: 36364089.1470\n",
      "Epoch 107/300\n",
      "9090/9090 [==============================] - 0s 21us/sample - loss: 33590593.9010 - val_loss: 35810090.3870\n",
      "Epoch 108/300\n",
      "9090/9090 [==============================] - 0s 23us/sample - loss: 33052843.2607 - val_loss: 35504966.3967\n",
      "Epoch 109/300\n",
      "9090/9090 [==============================] - 0s 21us/sample - loss: 32532695.3135 - val_loss: 35175229.8009\n",
      "Epoch 110/300\n",
      "9090/9090 [==============================] - 0s 23us/sample - loss: 32033454.7613 - val_loss: 34604047.5484\n",
      "Epoch 111/300\n",
      "9090/9090 [==============================] - 0s 21us/sample - loss: 31569111.4609 - val_loss: 34413925.1440\n",
      "Epoch 112/300\n",
      "9090/9090 [==============================] - 0s 22us/sample - loss: 31119584.6997 - val_loss: 33846820.6662\n",
      "Epoch 113/300\n",
      "9090/9090 [==============================] - 0s 22us/sample - loss: 30680313.3047 - val_loss: 33579723.6715\n",
      "Epoch 114/300\n",
      "9090/9090 [==============================] - 0s 21us/sample - loss: 30261048.6931 - val_loss: 33314398.1991\n",
      "Epoch 115/300\n",
      "9090/9090 [==============================] - 0s 24us/sample - loss: 29827103.1925 - val_loss: 32847826.0164\n",
      "Epoch 116/300\n",
      "9090/9090 [==============================] - 0s 22us/sample - loss: 29383249.0605 - val_loss: 32106692.6872\n",
      "Epoch 117/300\n",
      "9090/9090 [==============================] - 0s 24us/sample - loss: 28975270.5677 - val_loss: 31980042.8653\n",
      "Epoch 118/300\n",
      "9090/9090 [==============================] - 0s 20us/sample - loss: 28526954.1760 - val_loss: 31410641.7696\n",
      "Epoch 119/300\n",
      "9090/9090 [==============================] - 0s 25us/sample - loss: 28091151.7558 - val_loss: 30919271.1609\n",
      "Epoch 120/300\n",
      "9090/9090 [==============================] - 0s 23us/sample - loss: 27664246.9549 - val_loss: 30514839.0418\n",
      "Epoch 121/300\n",
      "9090/9090 [==============================] - 0s 21us/sample - loss: 27209514.9087 - val_loss: 30313136.2120\n",
      "Epoch 122/300\n",
      "9090/9090 [==============================] - 0s 22us/sample - loss: 26794772.2266 - val_loss: 29934312.3880\n",
      "Epoch 123/300\n",
      "9090/9090 [==============================] - 0s 22us/sample - loss: 26419708.6777 - val_loss: 29594279.5720\n",
      "Epoch 124/300\n",
      "9090/9090 [==============================] - 0s 27us/sample - loss: 25992038.4290 - val_loss: 28867018.1991\n",
      "Epoch 125/300\n",
      "9090/9090 [==============================] - 0s 23us/sample - loss: 25632571.1067 - val_loss: 28633719.6561\n",
      "Epoch 126/300\n",
      "9090/9090 [==============================] - 0s 25us/sample - loss: 25277012.0176 - val_loss: 28222638.8566\n",
      "Epoch 127/300\n",
      "9090/9090 [==============================] - 0s 26us/sample - loss: 24941503.5842 - val_loss: 27961880.7878\n",
      "Epoch 128/300\n",
      "9090/9090 [==============================] - 0s 25us/sample - loss: 24620492.3938 - val_loss: 27449561.6777\n",
      "Epoch 129/300\n",
      "9090/9090 [==============================] - 0s 24us/sample - loss: 24301432.4180 - val_loss: 27522809.7023\n",
      "Epoch 130/300\n",
      "9090/9090 [==============================] - 0s 25us/sample - loss: 24013915.8680 - val_loss: 27045929.5858\n",
      "Epoch 131/300\n",
      "9090/9090 [==============================] - 0s 21us/sample - loss: 23755300.7943 - val_loss: 26635277.5684\n",
      "Epoch 132/300\n",
      "9090/9090 [==============================] - 0s 22us/sample - loss: 23520367.7162 - val_loss: 26209151.6895\n",
      "Epoch 133/300\n",
      "9090/9090 [==============================] - 0s 25us/sample - loss: 23267004.3432 - val_loss: 26336320.7011\n",
      "Epoch 134/300\n",
      "9090/9090 [==============================] - 0s 26us/sample - loss: 23036985.9252 - val_loss: 26039841.1070\n",
      "Epoch 135/300\n"
     ]
    },
    {
     "name": "stdout",
     "output_type": "stream",
     "text": [
      "9090/9090 [==============================] - 0s 21us/sample - loss: 22857499.2948 - val_loss: 26616173.5335\n",
      "Epoch 136/300\n",
      "9090/9090 [==============================] - 0s 24us/sample - loss: 22690780.9967 - val_loss: 25646209.1008\n",
      "Epoch 137/300\n",
      "9090/9090 [==============================] - 0s 26us/sample - loss: 22503510.5149 - val_loss: 25083575.6372\n",
      "Epoch 138/300\n",
      "9090/9090 [==============================] - 0s 28us/sample - loss: 22372851.1166 - val_loss: 25588177.0937\n",
      "Epoch 139/300\n",
      "9090/9090 [==============================] - 0s 27us/sample - loss: 22209238.5479 - val_loss: 25310226.3048\n",
      "Epoch 140/300\n",
      "9090/9090 [==============================] - 0s 27us/sample - loss: 22084529.0363 - val_loss: 25108177.5556\n",
      "Epoch 141/300\n",
      "9090/9090 [==============================] - 0s 28us/sample - loss: 21969503.0495 - val_loss: 24980775.9820\n",
      "Epoch 142/300\n",
      "9090/9090 [==============================] - 0s 27us/sample - loss: 21867817.8152 - val_loss: 24649325.3108\n",
      "Epoch 143/300\n",
      "9090/9090 [==============================] - 0s 27us/sample - loss: 21768020.4191 - val_loss: 24926370.1817\n",
      "Epoch 144/300\n",
      "9090/9090 [==============================] - 0s 28us/sample - loss: 21675799.6172 - val_loss: 24537629.6623\n",
      "Epoch 145/300\n",
      "9090/9090 [==============================] - 0s 29us/sample - loss: 21620440.2255 - val_loss: 24575264.8237\n",
      "Epoch 146/300\n",
      "9090/9090 [==============================] - 0s 28us/sample - loss: 21577245.3003 - val_loss: 24111085.2700\n",
      "Epoch 147/300\n",
      "9090/9090 [==============================] - 0s 28us/sample - loss: 21480103.2860 - val_loss: 24460514.9756\n",
      "Epoch 148/300\n",
      "9090/9090 [==============================] - 0s 27us/sample - loss: 21393205.1474 - val_loss: 24631938.0980\n",
      "Epoch 149/300\n",
      "9090/9090 [==============================] - 0s 28us/sample - loss: 21340510.4598 - val_loss: 24231243.6007\n",
      "Epoch 150/300\n",
      "9090/9090 [==============================] - 0s 27us/sample - loss: 21275751.2332 - val_loss: 24038185.1891\n",
      "Epoch 151/300\n",
      "9090/9090 [==============================] - 0s 27us/sample - loss: 21208307.0462 - val_loss: 24435594.3926\n",
      "Epoch 152/300\n",
      "9090/9090 [==============================] - 0s 23us/sample - loss: 21145441.6172 - val_loss: 24079548.2017\n",
      "Epoch 153/300\n",
      "9090/9090 [==============================] - 0s 22us/sample - loss: 21163916.3179 - val_loss: 24235542.7052\n",
      "Epoch 154/300\n",
      "9090/9090 [==============================] - 0s 23us/sample - loss: 21106492.6480 - val_loss: 23770716.1286\n",
      "Epoch 155/300\n",
      "9090/9090 [==============================] - 0s 22us/sample - loss: 21008406.9824 - val_loss: 24603267.4160\n",
      "Epoch 156/300\n",
      "9090/9090 [==============================] - 0s 21us/sample - loss: 20999222.9054 - val_loss: 23957977.5166\n",
      "Epoch 157/300\n",
      "9090/9090 [==============================] - 0s 22us/sample - loss: 20947346.9483 - val_loss: 23672918.0495\n",
      "Epoch 158/300\n",
      "9090/9090 [==============================] - 0s 22us/sample - loss: 20954867.4972 - val_loss: 23773982.7883\n",
      "Epoch 159/300\n",
      "9090/9090 [==============================] - 0s 23us/sample - loss: 20844578.0286 - val_loss: 23907092.4008\n",
      "Epoch 160/300\n",
      "9090/9090 [==============================] - 0s 20us/sample - loss: 20812587.5798 - val_loss: 23671271.2723\n",
      "Epoch 161/300\n",
      "9090/9090 [==============================] - 0s 25us/sample - loss: 20769093.8977 - val_loss: 24161068.7329\n",
      "Epoch 162/300\n",
      "9090/9090 [==============================] - 0s 21us/sample - loss: 20739539.1353 - val_loss: 23932745.3995\n",
      "Epoch 163/300\n",
      "9090/9090 [==============================] - 0s 23us/sample - loss: 20690666.5468 - val_loss: 23410949.5763\n",
      "Epoch 164/300\n",
      "9090/9090 [==============================] - 0s 23us/sample - loss: 20694963.9428 - val_loss: 23803008.3069\n",
      "Epoch 165/300\n",
      "9090/9090 [==============================] - 0s 24us/sample - loss: 20635633.9021 - val_loss: 23687683.6407\n",
      "Epoch 166/300\n",
      "9090/9090 [==============================] - 0s 21us/sample - loss: 20617946.2739 - val_loss: 23938238.5969\n",
      "Epoch 167/300\n",
      "9090/9090 [==============================] - 0s 26us/sample - loss: 20587342.9362 - val_loss: 23795155.9045\n",
      "Epoch 168/300\n",
      "9090/9090 [==============================] - 0s 25us/sample - loss: 20545541.7019 - val_loss: 23394871.4077\n",
      "Epoch 169/300\n",
      "9090/9090 [==============================] - 0s 22us/sample - loss: 20519075.4213 - val_loss: 23220834.8735\n",
      "Epoch 170/300\n",
      "9090/9090 [==============================] - 0s 27us/sample - loss: 20520307.7712 - val_loss: 23579819.4298\n",
      "Epoch 171/300\n",
      "9090/9090 [==============================] - 0s 26us/sample - loss: 20471633.8856 - val_loss: 23543586.7934\n",
      "Epoch 172/300\n",
      "9090/9090 [==============================] - 0s 26us/sample - loss: 20440996.9945 - val_loss: 23754206.0482\n",
      "Epoch 173/300\n",
      "9090/9090 [==============================] - 0s 22us/sample - loss: 20404024.1144 - val_loss: 23312094.3595\n",
      "Epoch 174/300\n",
      "9090/9090 [==============================] - 0s 23us/sample - loss: 20375458.7481 - val_loss: 23545368.9289\n",
      "Epoch 175/300\n",
      "9090/9090 [==============================] - 0s 21us/sample - loss: 20349953.6711 - val_loss: 23032784.0929\n",
      "Epoch 176/300\n",
      "9090/9090 [==============================] - 0s 23us/sample - loss: 20348590.1903 - val_loss: 23368892.5584\n",
      "Epoch 177/300\n",
      "9090/9090 [==============================] - 0s 21us/sample - loss: 20295010.3531 - val_loss: 23253306.3323\n",
      "Epoch 178/300\n",
      "9090/9090 [==============================] - 0s 22us/sample - loss: 20288862.5347 - val_loss: 23512745.3918\n",
      "Epoch 179/300\n",
      "9090/9090 [==============================] - 0s 23us/sample - loss: 20271565.5666 - val_loss: 23463688.6718\n",
      "Epoch 180/300\n",
      "9090/9090 [==============================] - 0s 20us/sample - loss: 20242541.3476 - val_loss: 23527872.6569\n",
      "Epoch 181/300\n",
      "9090/9090 [==============================] - 0s 23us/sample - loss: 20200498.3971 - val_loss: 23491135.0680\n",
      "Epoch 182/300\n",
      "9090/9090 [==============================] - 0s 21us/sample - loss: 20184218.2453 - val_loss: 23188473.0275\n",
      "Epoch 183/300\n",
      "9090/9090 [==============================] - 0s 22us/sample - loss: 20166497.5248 - val_loss: 23450175.4724\n",
      "Epoch 184/300\n",
      "9090/9090 [==============================] - 0s 23us/sample - loss: 20158892.8757 - val_loss: 23466110.5173\n",
      "Epoch 185/300\n",
      "9090/9090 [==============================] - 0s 22us/sample - loss: 20133860.2013 - val_loss: 23510902.5758\n",
      "Epoch 186/300\n",
      "9090/9090 [==============================] - 0s 22us/sample - loss: 20099409.1320 - val_loss: 23531024.9654\n",
      "Epoch 187/300\n",
      "9090/9090 [==============================] - 0s 22us/sample - loss: 20082224.3773 - val_loss: 23651244.8494\n",
      "Epoch 188/300\n",
      "9090/9090 [==============================] - 0s 22us/sample - loss: 20075135.7305 - val_loss: 23103800.4650\n",
      "Epoch 189/300\n",
      "9090/9090 [==============================] - 0s 20us/sample - loss: 20047592.7019 - val_loss: 23315110.2540\n",
      "Epoch 190/300\n",
      "9090/9090 [==============================] - 0s 23us/sample - loss: 20041345.9329 - val_loss: 22644568.1424\n",
      "Epoch 191/300\n",
      "9090/9090 [==============================] - 0s 21us/sample - loss: 20011243.7613 - val_loss: 23179341.0508\n",
      "Epoch 192/300\n",
      "9090/9090 [==============================] - 0s 22us/sample - loss: 20004335.5787 - val_loss: 22829989.2812\n",
      "Epoch 193/300\n",
      "9090/9090 [==============================] - 0s 21us/sample - loss: 19991555.4367 - val_loss: 22850049.7360\n",
      "Epoch 194/300\n",
      "9090/9090 [==============================] - 0s 22us/sample - loss: 19953857.0979 - val_loss: 22824840.5766\n",
      "Epoch 195/300\n",
      "9090/9090 [==============================] - 0s 22us/sample - loss: 19932839.7206 - val_loss: 22737431.2325\n",
      "Epoch 196/300\n",
      "9090/9090 [==============================] - 0s 22us/sample - loss: 19924258.9560 - val_loss: 23554718.3618\n",
      "Epoch 197/300\n",
      "9090/9090 [==============================] - 0s 27us/sample - loss: 19890543.0748 - val_loss: 22965833.4919\n",
      "Epoch 198/300\n",
      "9090/9090 [==============================] - 0s 22us/sample - loss: 19867347.8108 - val_loss: 23135107.3505\n",
      "Epoch 199/300\n",
      "9090/9090 [==============================] - 0s 24us/sample - loss: 19881019.7294 - val_loss: 23372810.6271\n",
      "Epoch 200/300\n",
      "9090/9090 [==============================] - 0s 26us/sample - loss: 19868325.0935 - val_loss: 23186506.5420\n",
      "Epoch 201/300\n",
      "9090/9090 [==============================] - 0s 26us/sample - loss: 19844295.4169 - val_loss: 23159392.0749\n",
      "Epoch 202/300\n"
     ]
    },
    {
     "name": "stdout",
     "output_type": "stream",
     "text": [
      "9090/9090 [==============================] - 0s 27us/sample - loss: 19839660.3564 - val_loss: 22524290.8055\n",
      "Epoch 203/300\n",
      "9090/9090 [==============================] - 0s 26us/sample - loss: 19821166.4092 - val_loss: 22926096.2168\n",
      "Epoch 204/300\n",
      "9090/9090 [==============================] - 0s 26us/sample - loss: 19782083.9637 - val_loss: 23362900.0436\n",
      "Epoch 205/300\n",
      "9090/9090 [==============================] - 0s 25us/sample - loss: 19804605.3355 - val_loss: 22775793.6790\n",
      "Epoch 206/300\n",
      "9090/9090 [==============================] - 0s 22us/sample - loss: 19765841.0275 - val_loss: 22754559.9181\n",
      "Epoch 207/300\n",
      "9090/9090 [==============================] - 0s 21us/sample - loss: 19760293.1496 - val_loss: 22667808.2117\n",
      "Epoch 208/300\n",
      "9090/9090 [==============================] - 0s 21us/sample - loss: 19779281.0924 - val_loss: 22402753.9818\n",
      "Epoch 209/300\n",
      "9090/9090 [==============================] - 0s 24us/sample - loss: 19733210.7657 - val_loss: 22622430.6605\n",
      "Epoch 210/300\n",
      "9090/9090 [==============================] - 0s 25us/sample - loss: 19704598.1628 - val_loss: 22536739.2520\n",
      "Epoch 211/300\n",
      "9090/9090 [==============================] - 0s 28us/sample - loss: 19689652.3300 - val_loss: 22847901.7434\n",
      "Epoch 212/300\n",
      "9090/9090 [==============================] - 0s 27us/sample - loss: 19681059.2618 - val_loss: 22793503.9197\n",
      "Epoch 213/300\n",
      "9090/9090 [==============================] - 0s 28us/sample - loss: 19665289.4895 - val_loss: 22837755.8958\n",
      "Epoch 214/300\n",
      "9090/9090 [==============================] - 0s 27us/sample - loss: 19635721.5600 - val_loss: 22850075.4231\n",
      "Epoch 215/300\n",
      "9090/9090 [==============================] - 0s 27us/sample - loss: 19633081.2079 - val_loss: 22971559.0765\n",
      "Epoch 216/300\n",
      "9090/9090 [==============================] - 0s 26us/sample - loss: 19614360.3542 - val_loss: 22918029.4203\n",
      "Epoch 217/300\n",
      "9090/9090 [==============================] - 0s 28us/sample - loss: 19618905.3971 - val_loss: 22575630.5964\n",
      "Epoch 218/300\n",
      "9090/9090 [==============================] - 0s 28us/sample - loss: 19588396.8218 - val_loss: 22949521.8661\n",
      "Epoch 219/300\n",
      "9090/9090 [==============================] - ETA: 0s - loss: 19874859.96 - 0s 28us/sample - loss: 19588282.4554 - val_loss: 22580164.9107\n",
      "Epoch 220/300\n",
      "9090/9090 [==============================] - 0s 27us/sample - loss: 19555308.9934 - val_loss: 22780322.9761\n",
      "Epoch 221/300\n",
      "9090/9090 [==============================] - 0s 27us/sample - loss: 19544394.5556 - val_loss: 22352477.5117\n",
      "Epoch 222/300\n",
      "9090/9090 [==============================] - 0s 26us/sample - loss: 19565277.1254 - val_loss: 22960098.4983\n",
      "Epoch 223/300\n",
      "9090/9090 [==============================] - 0s 27us/sample - loss: 19526553.9263 - val_loss: 22443247.0947\n",
      "Epoch 224/300\n",
      "9090/9090 [==============================] - 0s 25us/sample - loss: 19510612.2057 - val_loss: 22454547.1278\n",
      "Epoch 225/300\n",
      "9090/9090 [==============================] - 0s 22us/sample - loss: 19503047.1771 - val_loss: 22787469.7847\n",
      "Epoch 226/300\n",
      "9090/9090 [==============================] - 0s 21us/sample - loss: 19502303.3025 - val_loss: 22519796.0149\n",
      "Epoch 227/300\n",
      "9090/9090 [==============================] - 0s 24us/sample - loss: 19490715.7668 - val_loss: 22900430.2012\n",
      "Epoch 228/300\n",
      "9090/9090 [==============================] - 0s 21us/sample - loss: 19480471.8647 - val_loss: 22648907.9715\n",
      "Epoch 229/300\n",
      "9090/9090 [==============================] - 0s 22us/sample - loss: 19473703.8020 - val_loss: 22742470.7970\n",
      "Epoch 230/300\n",
      "9090/9090 [==============================] - 0s 22us/sample - loss: 19453265.9714 - val_loss: 22328835.8101\n",
      "Epoch 231/300\n",
      "9090/9090 [==============================] - 0s 21us/sample - loss: 19457028.2552 - val_loss: 22426148.0285\n",
      "Epoch 232/300\n",
      "9090/9090 [==============================] - 0s 23us/sample - loss: 19417424.4455 - val_loss: 22156433.7039\n",
      "Epoch 233/300\n",
      "9090/9090 [==============================] - 0s 22us/sample - loss: 19418841.5237 - val_loss: 22540451.3136\n",
      "Epoch 234/300\n",
      "9090/9090 [==============================] - 0s 22us/sample - loss: 19411510.0825 - val_loss: 22433545.9905\n",
      "Epoch 235/300\n",
      "9090/9090 [==============================] - 0s 22us/sample - loss: 19389717.2816 - val_loss: 22347142.3359\n",
      "Epoch 236/300\n",
      "9090/9090 [==============================] - 0s 22us/sample - loss: 19385122.9395 - val_loss: 22425999.0598\n",
      "Epoch 237/300\n",
      "9090/9090 [==============================] - 0s 22us/sample - loss: 19369756.4147 - val_loss: 22378465.1252\n",
      "Epoch 238/300\n",
      "9090/9090 [==============================] - 0s 22us/sample - loss: 19349557.6524 - val_loss: 22284359.4429\n",
      "Epoch 239/300\n",
      "9090/9090 [==============================] - 0s 21us/sample - loss: 19332555.8944 - val_loss: 22558254.9045\n",
      "Epoch 240/300\n",
      "9090/9090 [==============================] - 0s 22us/sample - loss: 19332990.5567 - val_loss: 22288886.5358\n",
      "Epoch 241/300\n",
      "9090/9090 [==============================] - 0s 24us/sample - loss: 19325010.6689 - val_loss: 22093175.7850\n",
      "Epoch 242/300\n",
      "9090/9090 [==============================] - 0s 22us/sample - loss: 19304427.3597 - val_loss: 21985904.6446\n",
      "Epoch 243/300\n",
      "9090/9090 [==============================] - 0s 21us/sample - loss: 19311046.1562 - val_loss: 22760197.2866\n",
      "Epoch 244/300\n",
      "9090/9090 [==============================] - 0s 22us/sample - loss: 19288402.2277 - val_loss: 22063564.8016\n",
      "Epoch 245/300\n",
      "9090/9090 [==============================] - 0s 23us/sample - loss: 19275496.4587 - val_loss: 22315644.6692\n",
      "Epoch 246/300\n",
      "9090/9090 [==============================] - 0s 21us/sample - loss: 19280759.1496 - val_loss: 22454300.1383\n",
      "Epoch 247/300\n",
      "9090/9090 [==============================] - 0s 23us/sample - loss: 19261102.6788 - val_loss: 22455866.1986\n",
      "Epoch 248/300\n",
      "9090/9090 [==============================] - 0s 21us/sample - loss: 19251677.4972 - val_loss: 22745436.8160\n",
      "Epoch 249/300\n",
      "9090/9090 [==============================] - 0s 23us/sample - loss: 19247029.4433 - val_loss: 22256339.0003\n",
      "Epoch 250/300\n",
      "9090/9090 [==============================] - 0s 22us/sample - loss: 19245402.5237 - val_loss: 22198711.9605\n",
      "Epoch 251/300\n",
      "9090/9090 [==============================] - 0s 22us/sample - loss: 19222385.8251 - val_loss: 22284739.1907\n",
      "Epoch 252/300\n",
      "9090/9090 [==============================] - 0s 22us/sample - loss: 19212092.3850 - val_loss: 21905658.0526\n",
      "Epoch 253/300\n",
      "9090/9090 [==============================] - 0s 22us/sample - loss: 19198821.4169 - val_loss: 22265460.1224\n",
      "Epoch 254/300\n",
      "9090/9090 [==============================] - 0s 20us/sample - loss: 19191243.3344 - val_loss: 22601999.3233\n",
      "Epoch 255/300\n",
      "9090/9090 [==============================] - 0s 24us/sample - loss: 19216458.4125 - val_loss: 22458616.3528\n",
      "Epoch 256/300\n",
      "9090/9090 [==============================] - 0s 20us/sample - loss: 19185240.7624 - val_loss: 22300067.7306\n",
      "Epoch 257/300\n",
      "9090/9090 [==============================] - 0s 23us/sample - loss: 19178559.1705 - val_loss: 22518690.8137\n",
      "Epoch 258/300\n",
      "9090/9090 [==============================] - 0s 23us/sample - loss: 19147871.9967 - val_loss: 22327081.7857\n",
      "Epoch 259/300\n",
      "9090/9090 [==============================] - 0s 21us/sample - loss: 19132155.3322 - val_loss: 22081161.6844\n",
      "Epoch 260/300\n",
      "9090/9090 [==============================] - 0s 22us/sample - loss: 19126218.9450 - val_loss: 22125930.6143\n",
      "Epoch 261/300\n",
      "9090/9090 [==============================] - 0s 21us/sample - loss: 19111925.7338 - val_loss: 21894102.3149\n",
      "Epoch 262/300\n",
      "9090/9090 [==============================] - 0s 23us/sample - loss: 19117497.1507 - val_loss: 22325345.1478\n",
      "Epoch 263/300\n",
      "9090/9090 [==============================] - 0s 22us/sample - loss: 19100072.6568 - val_loss: 22059523.0803\n",
      "Epoch 264/300\n",
      "9090/9090 [==============================] - 0s 22us/sample - loss: 19087469.2530 - val_loss: 22279117.7991\n",
      "Epoch 265/300\n",
      "9090/9090 [==============================] - 0s 21us/sample - loss: 19105496.9010 - val_loss: 22085070.7768\n",
      "Epoch 266/300\n",
      "9090/9090 [==============================] - 0s 23us/sample - loss: 19067167.1177 - val_loss: 22260407.1442\n",
      "Epoch 267/300\n",
      "9090/9090 [==============================] - 0s 22us/sample - loss: 19060359.7668 - val_loss: 21996761.2002\n",
      "Epoch 268/300\n",
      "9090/9090 [==============================] - 0s 22us/sample - loss: 19069078.3157 - val_loss: 21764952.5384\n",
      "Epoch 269/300\n"
     ]
    },
    {
     "name": "stdout",
     "output_type": "stream",
     "text": [
      "9090/9090 [==============================] - 0s 22us/sample - loss: 19089441.8570 - val_loss: 21952354.7762\n",
      "Epoch 270/300\n",
      "9090/9090 [==============================] - 0s 22us/sample - loss: 19043552.0440 - val_loss: 22502110.2756\n",
      "Epoch 271/300\n",
      "9090/9090 [==============================] - 0s 22us/sample - loss: 19031412.0660 - val_loss: 21844242.3839\n",
      "Epoch 272/300\n",
      "9090/9090 [==============================] - 0s 21us/sample - loss: 19024921.9890 - val_loss: 21989005.2538\n",
      "Epoch 273/300\n",
      "9090/9090 [==============================] - 0s 23us/sample - loss: 19040424.7822 - val_loss: 21831739.7934\n",
      "Epoch 274/300\n",
      "9090/9090 [==============================] - 0s 21us/sample - loss: 19136839.5974 - val_loss: 21443952.6002\n",
      "Epoch 275/300\n",
      "9090/9090 [==============================] - 0s 24us/sample - loss: 19041809.9692 - val_loss: 22081759.1440\n",
      "Epoch 276/300\n",
      "9090/9090 [==============================] - 0s 25us/sample - loss: 18984356.0033 - val_loss: 21885944.5512\n",
      "Epoch 277/300\n",
      "9090/9090 [==============================] - 0s 22us/sample - loss: 18978960.7294 - val_loss: 22330552.3610\n",
      "Epoch 278/300\n",
      "9090/9090 [==============================] - 0s 22us/sample - loss: 18996554.4466 - val_loss: 22195258.1694\n",
      "Epoch 279/300\n",
      "9090/9090 [==============================] - 0s 21us/sample - loss: 18978445.2145 - val_loss: 21681896.1034\n",
      "Epoch 280/300\n",
      "9090/9090 [==============================] - 0s 20us/sample - loss: 19004081.1826 - val_loss: 21880662.2905\n",
      "Epoch 281/300\n",
      "9090/9090 [==============================] - 0s 22us/sample - loss: 18997412.4587 - val_loss: 21666768.0952\n",
      "Epoch 282/300\n",
      "9090/9090 [==============================] - 0s 20us/sample - loss: 18967810.0231 - val_loss: 22262111.3090\n",
      "Epoch 283/300\n",
      "9090/9090 [==============================] - 0s 22us/sample - loss: 18959192.6315 - val_loss: 22148073.3908\n",
      "Epoch 284/300\n",
      "9090/9090 [==============================] - 0s 24us/sample - loss: 18928827.9967 - val_loss: 21853825.9787\n",
      "Epoch 285/300\n",
      "9090/9090 [==============================] - 0s 20us/sample - loss: 18916098.7404 - val_loss: 21712468.8771\n",
      "Epoch 286/300\n",
      "9090/9090 [==============================] - 0s 28us/sample - loss: 18915462.6898 - val_loss: 21973254.9215\n",
      "Epoch 287/300\n",
      "9090/9090 [==============================] - 0s 25us/sample - loss: 18916467.9538 - val_loss: 21762063.7814\n",
      "Epoch 288/300\n",
      "9090/9090 [==============================] - 0s 27us/sample - loss: 18912741.0616 - val_loss: 21961917.1067\n",
      "Epoch 289/300\n",
      "9090/9090 [==============================] - 0s 28us/sample - loss: 18899420.2277 - val_loss: 22212609.2161\n",
      "Epoch 290/300\n",
      "9090/9090 [==============================] - 0s 27us/sample - loss: 18936094.5468 - val_loss: 22133423.4349\n",
      "Epoch 291/300\n",
      "9090/9090 [==============================] - 0s 26us/sample - loss: 18893483.8834 - val_loss: 21721853.3718\n",
      "Epoch 292/300\n",
      "9090/9090 [==============================] - 0s 27us/sample - loss: 18878807.8471 - val_loss: 21578736.1206\n",
      "Epoch 293/300\n",
      "9090/9090 [==============================] - 0s 28us/sample - loss: 18870104.3256 - val_loss: 22158824.2818\n",
      "Epoch 294/300\n",
      "9090/9090 [==============================] - 0s 27us/sample - loss: 18887926.0396 - val_loss: 21802939.7357\n",
      "Epoch 295/300\n",
      "9090/9090 [==============================] - 0s 28us/sample - loss: 18856853.8889 - val_loss: 21798409.2902\n",
      "Epoch 296/300\n",
      "9090/9090 [==============================] - 0s 27us/sample - loss: 18863736.1705 - val_loss: 21582866.9625\n",
      "Epoch 297/300\n",
      "9090/9090 [==============================] - 0s 27us/sample - loss: 18839790.3355 - val_loss: 22045686.2766\n",
      "Epoch 298/300\n",
      "9090/9090 [==============================] - 0s 26us/sample - loss: 18826885.7107 - val_loss: 21465635.2443\n",
      "Epoch 299/300\n",
      "9090/9090 [==============================] - 0s 29us/sample - loss: 18816169.1276 - val_loss: 21649893.6998\n",
      "Epoch 300/300\n",
      "9090/9090 [==============================] - 0s 25us/sample - loss: 18831710.7096 - val_loss: 21740489.5145\n"
     ]
    },
    {
     "data": {
      "text/plain": [
       "<tensorflow.python.keras.callbacks.History at 0x14a3f43688>"
      ]
     },
     "execution_count": 197,
     "metadata": {},
     "output_type": "execute_result"
    }
   ],
   "source": [
    "# validation data()= dogrulama verisi\n",
    "model.fit(x=X_train, y=y_train, validation_data=(X_test, y_test), batch_size=250, epochs=300)\n"
   ]
  },
  {
   "cell_type": "code",
   "execution_count": 198,
   "metadata": {},
   "outputs": [],
   "source": [
    "lossData = pd.DataFrame(model.history.history)"
   ]
  },
  {
   "cell_type": "code",
   "execution_count": 199,
   "metadata": {},
   "outputs": [
    {
     "data": {
      "text/plain": [
       "<AxesSubplot:>"
      ]
     },
     "execution_count": 199,
     "metadata": {},
     "output_type": "execute_result"
    },
    {
     "data": {
      "image/png": "[encoded data removed]",
      "text/plain": [
       "<Figure size 432x288 with 1 Axes>"
      ]
     },
     "metadata": {
      "needs_background": "light"
     },
     "output_type": "display_data"
    }
   ],
   "source": [
    "lossData.plot()"
   ]
  },
  {
   "cell_type": "code",
   "execution_count": 200,
   "metadata": {},
   "outputs": [],
   "source": [
    "from sklearn.metrics import mean_squared_error, mean_absolute_error"
   ]
  },
  {
   "cell_type": "code",
   "execution_count": 201,
   "metadata": {},
   "outputs": [],
   "source": [
    "predictArray = model.predict(X_test)"
   ]
  },
  {
   "cell_type": "code",
   "execution_count": 202,
   "metadata": {},
   "outputs": [
    {
     "data": {
      "text/plain": [
       "array([[23786.205],\n",
       "       [21324.74 ],\n",
       "       [13767.214],\n",
       "       ...,\n",
       "       [19728.701],\n",
       "       [33151.523],\n",
       "       [24249.123]], dtype=float32)"
      ]
     },
     "execution_count": 202,
     "metadata": {},
     "output_type": "execute_result"
    }
   ],
   "source": [
    "predictArray"
   ]
  },
  {
   "cell_type": "code",
   "execution_count": 203,
   "metadata": {},
   "outputs": [
    {
     "data": {
      "text/plain": [
       "3251.022805064894"
      ]
     },
     "execution_count": 203,
     "metadata": {},
     "output_type": "execute_result"
    }
   ],
   "source": [
    "mean_absolute_error(y_test, predictArray)"
   ]
  },
  {
   "cell_type": "code",
   "execution_count": 204,
   "metadata": {},
   "outputs": [
    {
     "data": {
      "text/html": [
       "<div>\n",
       "<style scoped>\n",
       "    .dataframe tbody tr th:only-of-type {\n",
       "        vertical-align: middle;\n",
       "    }\n",
       "\n",
       "    .dataframe tbody tr th {\n",
       "        vertical-align: top;\n",
       "    }\n",
       "\n",
       "    .dataframe thead th {\n",
       "        text-align: right;\n",
       "    }\n",
       "</style>\n",
       "<table border=\"1\" class=\"dataframe\">\n",
       "  <thead>\n",
       "    <tr style=\"text-align: right;\">\n",
       "      <th></th>\n",
       "      <th>year</th>\n",
       "      <th>price</th>\n",
       "      <th>mileage</th>\n",
       "      <th>tax</th>\n",
       "      <th>mpg</th>\n",
       "      <th>engineSize</th>\n",
       "    </tr>\n",
       "  </thead>\n",
       "  <tbody>\n",
       "    <tr>\n",
       "      <th>count</th>\n",
       "      <td>12987.000000</td>\n",
       "      <td>12987.000000</td>\n",
       "      <td>12987.000000</td>\n",
       "      <td>12987.000000</td>\n",
       "      <td>12987.000000</td>\n",
       "      <td>12987.000000</td>\n",
       "    </tr>\n",
       "    <tr>\n",
       "      <th>mean</th>\n",
       "      <td>2017.285516</td>\n",
       "      <td>24074.855779</td>\n",
       "      <td>22133.367367</td>\n",
       "      <td>129.676215</td>\n",
       "      <td>55.438392</td>\n",
       "      <td>2.051059</td>\n",
       "    </tr>\n",
       "    <tr>\n",
       "      <th>std</th>\n",
       "      <td>2.189633</td>\n",
       "      <td>9866.601115</td>\n",
       "      <td>21197.472376</td>\n",
       "      <td>65.167429</td>\n",
       "      <td>15.025902</td>\n",
       "      <td>0.532313</td>\n",
       "    </tr>\n",
       "    <tr>\n",
       "      <th>min</th>\n",
       "      <td>1997.000000</td>\n",
       "      <td>650.000000</td>\n",
       "      <td>1.000000</td>\n",
       "      <td>0.000000</td>\n",
       "      <td>1.100000</td>\n",
       "      <td>0.000000</td>\n",
       "    </tr>\n",
       "    <tr>\n",
       "      <th>25%</th>\n",
       "      <td>2016.000000</td>\n",
       "      <td>17355.000000</td>\n",
       "      <td>6320.000000</td>\n",
       "      <td>125.000000</td>\n",
       "      <td>45.600000</td>\n",
       "      <td>1.700000</td>\n",
       "    </tr>\n",
       "    <tr>\n",
       "      <th>50%</th>\n",
       "      <td>2018.000000</td>\n",
       "      <td>22299.000000</td>\n",
       "      <td>15371.000000</td>\n",
       "      <td>145.000000</td>\n",
       "      <td>56.500000</td>\n",
       "      <td>2.000000</td>\n",
       "    </tr>\n",
       "    <tr>\n",
       "      <th>75%</th>\n",
       "      <td>2019.000000</td>\n",
       "      <td>28706.000000</td>\n",
       "      <td>31986.500000</td>\n",
       "      <td>145.000000</td>\n",
       "      <td>64.200000</td>\n",
       "      <td>2.100000</td>\n",
       "    </tr>\n",
       "    <tr>\n",
       "      <th>max</th>\n",
       "      <td>2020.000000</td>\n",
       "      <td>65990.000000</td>\n",
       "      <td>259000.000000</td>\n",
       "      <td>580.000000</td>\n",
       "      <td>217.300000</td>\n",
       "      <td>6.200000</td>\n",
       "    </tr>\n",
       "  </tbody>\n",
       "</table>\n",
       "</div>"
      ],
      "text/plain": [
       "               year         price        mileage           tax           mpg  \\\n",
       "count  12987.000000  12987.000000   12987.000000  12987.000000  12987.000000   \n",
       "mean    2017.285516  24074.855779   22133.367367    129.676215     55.438392   \n",
       "std        2.189633   9866.601115   21197.472376     65.167429     15.025902   \n",
       "min     1997.000000    650.000000       1.000000      0.000000      1.100000   \n",
       "25%     2016.000000  17355.000000    6320.000000    125.000000     45.600000   \n",
       "50%     2018.000000  22299.000000   15371.000000    145.000000     56.500000   \n",
       "75%     2019.000000  28706.000000   31986.500000    145.000000     64.200000   \n",
       "max     2020.000000  65990.000000  259000.000000    580.000000    217.300000   \n",
       "\n",
       "         engineSize  \n",
       "count  12987.000000  \n",
       "mean       2.051059  \n",
       "std        0.532313  \n",
       "min        0.000000  \n",
       "25%        1.700000  \n",
       "50%        2.000000  \n",
       "75%        2.100000  \n",
       "max        6.200000  "
      ]
     },
     "execution_count": 204,
     "metadata": {},
     "output_type": "execute_result"
    }
   ],
   "source": [
    "data.describe()"
   ]
  },
  {
   "cell_type": "code",
   "execution_count": 205,
   "metadata": {},
   "outputs": [
    {
     "data": {
      "text/plain": [
       "[<matplotlib.lines.Line2D at 0x14a9451d08>]"
      ]
     },
     "execution_count": 205,
     "metadata": {},
     "output_type": "execute_result"
    },
    {
     "data": {
      "image/png": "[encoded data removed]",
      "text/plain": [
       "<Figure size 432x288 with 1 Axes>"
      ]
     },
     "metadata": {
      "needs_background": "light"
     },
     "output_type": "display_data"
    }
   ],
   "source": [
    "plt.scatter(y_test, predictArray)\n",
    "plt.plot(y_test, y_test, \"g*\")"
   ]
  },
  {
   "cell_type": "code",
   "execution_count": 206,
   "metadata": {},
   "outputs": [
    {
     "data": {
      "text/plain": [
       "year           2020.0\n",
       "price         65980.0\n",
       "mileage        3999.0\n",
       "tax             145.0\n",
       "mpg              28.0\n",
       "engineSize        4.0\n",
       "Name: 3191, dtype: float64"
      ]
     },
     "execution_count": 206,
     "metadata": {},
     "output_type": "execute_result"
    }
   ],
   "source": [
    "data.iloc[2]"
   ]
  },
  {
   "cell_type": "code",
   "execution_count": 207,
   "metadata": {},
   "outputs": [],
   "source": [
    "newCar = data.drop(\"price\", axis=1).iloc[2]"
   ]
  },
  {
   "cell_type": "code",
   "execution_count": 208,
   "metadata": {},
   "outputs": [
    {
     "data": {
      "text/plain": [
       "year          2020.0\n",
       "mileage       3999.0\n",
       "tax            145.0\n",
       "mpg             28.0\n",
       "engineSize       4.0\n",
       "Name: 3191, dtype: float64"
      ]
     },
     "execution_count": 208,
     "metadata": {},
     "output_type": "execute_result"
    }
   ],
   "source": [
    "newCar"
   ]
  },
  {
   "cell_type": "code",
   "execution_count": 209,
   "metadata": {},
   "outputs": [],
   "source": [
    "newCar = scaler.transform(newCar.values.reshape(-1,5))"
   ]
  },
  {
   "cell_type": "code",
   "execution_count": 212,
   "metadata": {},
   "outputs": [
    {
     "data": {
      "text/plain": [
       "array([[61968.758]], dtype=float32)"
      ]
     },
     "execution_count": 212,
     "metadata": {},
     "output_type": "execute_result"
    }
   ],
   "source": [
    "model.predict(newCar)"
   ]
  },
  {
   "cell_type": "code",
   "execution_count": null,
   "metadata": {},
   "outputs": [],
   "source": []
  }
 ],
 "metadata": {
  "kernelspec": {
   "display_name": "Python 3",
   "language": "python",
   "name": "python3"
  },
  "language_info": {
   "codemirror_mode": {
    "name": "ipython",
    "version": 3
   },
   "file_extension": ".py",
   "mimetype": "text/x-python",
   "name": "python",
   "nbconvert_exporter": "python",
   "pygments_lexer": "ipython3",
   "version": "3.7.9"
  }
 },
 "nbformat": 4,
 "nbformat_minor": 4
}
